{
  "cells": [
    {
      "cell_type": "markdown",
      "metadata": {
        "id": "view-in-github",
        "colab_type": "text"
      },
      "source": [
        "<a href=\"https://colab.research.google.com/github/mehmetaliisik/Python-Notes/blob/main/phyton.ipynb\" target=\"_parent\"><img src=\"https://colab.research.google.com/assets/colab-badge.svg\" alt=\"Open In Colab\"/></a>"
      ]
    },
    {
      "cell_type": "markdown",
      "metadata": {
        "id": "9z7KvEgfzctZ"
      },
      "source": [
        "# Summer Camp"
      ]
    },
    {
      "cell_type": "markdown",
      "metadata": {
        "id": "7Zn14PWZzctc"
      },
      "source": [
        "There is no need to specify the type of variable"
      ]
    },
    {
      "cell_type": "code",
      "execution_count": null,
      "metadata": {
        "id": "9cwnRE9Vzctc"
      },
      "outputs": [],
      "source": [
        "string= \"Mehmet Ali\""
      ]
    },
    {
      "cell_type": "code",
      "execution_count": null,
      "metadata": {
        "id": "JhAY3UR-zctd",
        "outputId": "1d438b59-16a4-426f-a441-8765d0304461"
      },
      "outputs": [
        {
          "data": {
            "text/plain": [
              "' '"
            ]
          },
          "execution_count": 2,
          "metadata": {},
          "output_type": "execute_result"
        }
      ],
      "source": [
        "string[6]"
      ]
    },
    {
      "cell_type": "code",
      "execution_count": null,
      "metadata": {
        "id": "RYFM-Xsfzctd",
        "outputId": "a53549b9-d8bb-4b12-957c-726b22622f17"
      },
      "outputs": [
        {
          "data": {
            "text/plain": [
              "'Mehmet'"
            ]
          },
          "execution_count": 4,
          "metadata": {},
          "output_type": "execute_result"
        }
      ],
      "source": [
        "string[0:6:1]\n",
        "#first:last(not include the last one):hops count"
      ]
    },
    {
      "cell_type": "code",
      "execution_count": null,
      "metadata": {
        "id": "S8Bw81ZBzctd",
        "outputId": "2d16bc3f-d5f6-4cf6-88e4-8b233033f494"
      },
      "outputs": [
        {
          "data": {
            "text/plain": [
              "'ilA temheM'"
            ]
          },
          "execution_count": 6,
          "metadata": {},
          "output_type": "execute_result"
        }
      ],
      "source": [
        "string[::-1]\n",
        "#if you wanna reverse the string"
      ]
    },
    {
      "cell_type": "code",
      "execution_count": null,
      "metadata": {
        "id": "MBr7LgEhzctd",
        "outputId": "b2f192fd-82d9-44e8-9b6b-1a1ce1d2b82d"
      },
      "outputs": [
        {
          "data": {
            "text/plain": [
              "10"
            ]
          },
          "execution_count": 7,
          "metadata": {},
          "output_type": "execute_result"
        }
      ],
      "source": [
        "#for calculating length of the string\n",
        "len(string)"
      ]
    },
    {
      "cell_type": "code",
      "execution_count": null,
      "metadata": {
        "id": "iK2LM0C0zctd",
        "outputId": "6f81e1fc-ea49-42be-98b2-28f0a9e43654"
      },
      "outputs": [
        {
          "name": "stdout",
          "output_type": "stream",
          "text": [
            "Mehmet Ali\n"
          ]
        }
      ],
      "source": [
        "a=\"Mehmet \"\n",
        "b=\"Ali\"\n",
        "c=a+b\n",
        "print(c)"
      ]
    },
    {
      "cell_type": "code",
      "execution_count": null,
      "metadata": {
        "id": "ERubuqX3zcte",
        "outputId": "f3028945-b409-440f-be72-13226d617af1"
      },
      "outputs": [
        {
          "name": "stdout",
          "output_type": "stream",
          "text": [
            "Mehmet Mehmet Mehmet \n"
          ]
        }
      ],
      "source": [
        "print(a*3)"
      ]
    },
    {
      "cell_type": "markdown",
      "metadata": {
        "id": "UWwyav7Kzcte"
      },
      "source": [
        "* For changing variable type;\n",
        "* to float float(variable),\n",
        "* to integer int(variable),\n",
        "* to string str(variable)."
      ]
    },
    {
      "cell_type": "code",
      "execution_count": null,
      "metadata": {
        "id": "cQLNqpMDzcte",
        "outputId": "619879ce-8308-4243-e8d6-3819250970f0"
      },
      "outputs": [
        {
          "data": {
            "text/plain": [
              "True"
            ]
          },
          "execution_count": 3,
          "metadata": {},
          "output_type": "execute_result"
        }
      ],
      "source": [
        "var= 66584\n",
        "x=str(var)\n",
        "x\n",
        "bool(x)"
      ]
    },
    {
      "cell_type": "code",
      "execution_count": null,
      "metadata": {
        "id": "1aSGXyYbzcte",
        "outputId": "4dcafc03-b464-49df-d2a8-ef25d3686b0d"
      },
      "outputs": [
        {
          "data": {
            "text/plain": [
              "3.14"
            ]
          },
          "execution_count": 5,
          "metadata": {},
          "output_type": "execute_result"
        }
      ],
      "source": [
        "a=\"3.14\"\n",
        "b=float(a)\n",
        "b"
      ]
    },
    {
      "cell_type": "code",
      "execution_count": null,
      "metadata": {
        "scrolled": true,
        "id": "PB1dmRAgzcte",
        "outputId": "fa0aa019-64fe-446e-a391-c4c266b8de93"
      },
      "outputs": [
        {
          "name": "stdout",
          "output_type": "stream",
          "text": [
            "35 45 78 98\n"
          ]
        }
      ],
      "source": [
        "print(35,45,78,98)"
      ]
    },
    {
      "cell_type": "markdown",
      "metadata": {
        "id": "dEt5F3mtzcte"
      },
      "source": [
        "# sep character"
      ]
    },
    {
      "cell_type": "code",
      "execution_count": null,
      "metadata": {
        "id": "FYtjqeFnzcte",
        "outputId": "5723e5fe-56b7-45d4-dadd-c7b6e91f5a0b"
      },
      "outputs": [
        {
          "name": "stdout",
          "output_type": "stream",
          "text": [
            "35/45/78/98\n"
          ]
        }
      ],
      "source": [
        "print(35,45,78,98,sep='/')"
      ]
    },
    {
      "cell_type": "code",
      "execution_count": null,
      "metadata": {
        "id": "7KRyOhyHzcte",
        "outputId": "38d22d0f-320e-4fa3-f9ea-2be41e4f1325"
      },
      "outputs": [
        {
          "name": "stdout",
          "output_type": "stream",
          "text": [
            "35\n",
            "45\n",
            "78\n",
            "98\n"
          ]
        }
      ],
      "source": [
        "print(35,45,78,98,sep='\\n')\n",
        "#use sep for putting character between variables"
      ]
    },
    {
      "cell_type": "code",
      "execution_count": null,
      "metadata": {
        "id": "lNFt5jJEzcte",
        "outputId": "04e22e81-359f-441b-d98e-11fc2ea9156d"
      },
      "outputs": [
        {
          "name": "stdout",
          "output_type": "stream",
          "text": [
            "M E H M E T\n"
          ]
        }
      ],
      "source": [
        "print(*\"MEHMET\")"
      ]
    },
    {
      "cell_type": "markdown",
      "metadata": {
        "id": "vhhLZQq2zcte"
      },
      "source": [
        "* \"*\" before string useful to seperate the string with a space"
      ]
    },
    {
      "cell_type": "code",
      "execution_count": null,
      "metadata": {
        "id": "aCsTSjitzcte",
        "outputId": "1191e305-77e5-4321-eaf2-9b8c4447f3c7"
      },
      "outputs": [
        {
          "name": "stdout",
          "output_type": "stream",
          "text": [
            "T.B.M.M\n"
          ]
        }
      ],
      "source": [
        "print(*\"TBMM\",sep=\".\")"
      ]
    },
    {
      "cell_type": "markdown",
      "metadata": {
        "id": "lqPGWR7dzctf"
      },
      "source": [
        "# Formating (phyformat)"
      ]
    },
    {
      "cell_type": "code",
      "execution_count": null,
      "metadata": {
        "id": "3CbggPYSzctf",
        "outputId": "a83e754e-555e-48a8-ffe7-f9c920b6ecb2"
      },
      "outputs": [
        {
          "name": "stdout",
          "output_type": "stream",
          "text": [
            "45 + 15 = 60\n"
          ]
        }
      ],
      "source": [
        "a=45\n",
        "b=15\n",
        "print(\"{} + {} = {}\".format(a,b,a+b))"
      ]
    },
    {
      "cell_type": "code",
      "execution_count": null,
      "metadata": {
        "id": "MNjXPH2Wzctf",
        "outputId": "202b8f09-b4be-4686-98f3-09595e10ffed"
      },
      "outputs": [
        {
          "name": "stdout",
          "output_type": "stream",
          "text": [
            "15 + 45 = 60\n"
          ]
        }
      ],
      "source": [
        "a=45\n",
        "b=15\n",
        "print(\"{1} + {0} = {2}\".format(a,b,a+b))"
      ]
    },
    {
      "cell_type": "code",
      "execution_count": null,
      "metadata": {
        "id": "-OL8fzL7zctf",
        "outputId": "d05cf707-2a84-4ea0-b76b-32b865ab8d7a"
      },
      "outputs": [
        {
          "name": "stdout",
          "output_type": "stream",
          "text": [
            "3.17 + 5.48 = 8.65\n"
          ]
        }
      ],
      "source": [
        "a=3.1654\n",
        "b=5.4848\n",
        "print(\"{:.2f} + {:.2f} = {:.2f}\".format(a,b,a+b))"
      ]
    },
    {
      "cell_type": "markdown",
      "metadata": {
        "id": "YpIcK8wmzctf"
      },
      "source": [
        "# List data type"
      ]
    },
    {
      "cell_type": "markdown",
      "metadata": {
        "id": "6Mm9iHl-zctf"
      },
      "source": [
        "* This data type seems like array in C but has some differences"
      ]
    },
    {
      "cell_type": "code",
      "execution_count": null,
      "metadata": {
        "id": "HRojm6qdzctf",
        "outputId": "5b259a94-e42d-4751-efb7-7c26396f9be5"
      },
      "outputs": [
        {
          "name": "stdout",
          "output_type": "stream",
          "text": [
            "['mehmet', 54, 34.45]\n"
          ]
        }
      ],
      "source": [
        "my_list=[\"mehmet\", 54, 34.45]\n",
        "print(my_list)"
      ]
    },
    {
      "cell_type": "code",
      "execution_count": null,
      "metadata": {
        "id": "w8tNCyb9zctf",
        "outputId": "8c35f7df-153d-431f-eda9-591048259bff"
      },
      "outputs": [
        {
          "name": "stdout",
          "output_type": "stream",
          "text": [
            "34.45\n"
          ]
        }
      ],
      "source": [
        "print(my_list[2])"
      ]
    },
    {
      "cell_type": "markdown",
      "metadata": {
        "id": "y4QPBccczctf"
      },
      "source": [
        "* first:last(not include the last one):hops count rule working as well as strings"
      ]
    },
    {
      "cell_type": "code",
      "execution_count": null,
      "metadata": {
        "id": "jTY__DFIzctf",
        "outputId": "8a3610c3-b623-4eb1-fe90-a3cae1a510c9"
      },
      "outputs": [
        {
          "data": {
            "text/plain": [
              "[34.45, 54, 'mehmet']"
            ]
          },
          "execution_count": 4,
          "metadata": {},
          "output_type": "execute_result"
        }
      ],
      "source": [
        "my_list[::-1]"
      ]
    },
    {
      "cell_type": "code",
      "execution_count": null,
      "metadata": {
        "id": "ib_E4v1izctf",
        "outputId": "7e8f4c05-8c9c-4a77-9285-a34aed2f4575"
      },
      "outputs": [
        {
          "data": {
            "text/plain": [
              "[1, 2, 3, 4, 5, 6]"
            ]
          },
          "execution_count": 5,
          "metadata": {},
          "output_type": "execute_result"
        }
      ],
      "source": [
        "list1=[1,2,3]\n",
        "list2=[4,5,6]\n",
        "list3= list1 + list2\n",
        "list3"
      ]
    },
    {
      "cell_type": "code",
      "execution_count": null,
      "metadata": {
        "id": "bLBdTnGwzctf",
        "outputId": "d45c5d4f-f8fc-4e92-bd8a-6e5f81838dea"
      },
      "outputs": [
        {
          "data": {
            "text/plain": [
              "[1, 2, 3, 1, 2, 3, 1, 2, 3]"
            ]
          },
          "execution_count": 6,
          "metadata": {},
          "output_type": "execute_result"
        }
      ],
      "source": [
        "list1 *3"
      ]
    },
    {
      "cell_type": "code",
      "execution_count": null,
      "metadata": {
        "id": "jpxlMRH1zctf",
        "outputId": "06796c83-5f07-4a2c-8f90-a374006108ae"
      },
      "outputs": [
        {
          "data": {
            "text/plain": [
              "[-1, 2, 3]"
            ]
          },
          "execution_count": 7,
          "metadata": {},
          "output_type": "execute_result"
        }
      ],
      "source": [
        "list1[0]=-1\n",
        "list1"
      ]
    },
    {
      "cell_type": "code",
      "execution_count": null,
      "metadata": {
        "id": "rwrp4Oc9zctg",
        "outputId": "3535a455-2a27-46ff-82d4-7d91289bc3da"
      },
      "outputs": [
        {
          "data": {
            "text/plain": [
              "[1, -2, 3]"
            ]
          },
          "execution_count": 8,
          "metadata": {},
          "output_type": "execute_result"
        }
      ],
      "source": [
        "list1[:2]=[1,-2]\n",
        "list1"
      ]
    },
    {
      "cell_type": "markdown",
      "metadata": {
        "id": "NRd00JWQzctg"
      },
      "source": [
        "*  METHODS\n",
        "* list.append(element) = add the value to last of the list\n",
        "* list.pop(element) = taking out the element which writed in the list\n",
        "* list.sort() = sort the list if wanna reverse list list.sort(reverse=True)"
      ]
    },
    {
      "cell_type": "code",
      "execution_count": null,
      "metadata": {
        "id": "lmMPDDbCzctg",
        "outputId": "31e5062c-c642-4aeb-8885-c220933f0a8c"
      },
      "outputs": [
        {
          "data": {
            "text/plain": [
              "[5, 6, 54, 4, 1, 0]"
            ]
          },
          "execution_count": 10,
          "metadata": {},
          "output_type": "execute_result"
        }
      ],
      "source": [
        "list1=[5,6,54,4,1]\n",
        "list1.append(0)\n",
        "list1"
      ]
    },
    {
      "cell_type": "code",
      "execution_count": null,
      "metadata": {
        "id": "hEnTUE40zctg",
        "outputId": "e05a2bd7-bed6-4ccf-d4d1-84d8edaaae23"
      },
      "outputs": [
        {
          "data": {
            "text/plain": [
              "[5, 54, 4, 1, 0]"
            ]
          },
          "execution_count": 11,
          "metadata": {},
          "output_type": "execute_result"
        }
      ],
      "source": [
        "list1.pop(1)\n",
        "list1"
      ]
    },
    {
      "cell_type": "code",
      "execution_count": null,
      "metadata": {
        "id": "Up6HrAemzctg",
        "outputId": "1a2ec545-29ef-4087-c37d-1c77efac4213"
      },
      "outputs": [
        {
          "data": {
            "text/plain": [
              "[54, 5, 4, 1, 0]"
            ]
          },
          "execution_count": 12,
          "metadata": {},
          "output_type": "execute_result"
        }
      ],
      "source": [
        "list1.sort(reverse = True)\n",
        "list1"
      ]
    },
    {
      "cell_type": "markdown",
      "metadata": {
        "id": "oaigjSG4zctg"
      },
      "source": [
        "# Tuple data type"
      ]
    },
    {
      "cell_type": "markdown",
      "metadata": {
        "id": "h2-v53Huzctg"
      },
      "source": [
        "* Tuples cant change its syntax is tuple = (variables)"
      ]
    },
    {
      "cell_type": "code",
      "execution_count": null,
      "metadata": {
        "id": "083aR1KKzctg"
      },
      "outputs": [],
      "source": [
        "my_tuple = (1,5,2,5,1,4,6,8,5)"
      ]
    },
    {
      "cell_type": "code",
      "execution_count": null,
      "metadata": {
        "id": "sKSFUdahzctg",
        "outputId": "559d9c87-c6cd-41c1-a161-6604bdff3b1e"
      },
      "outputs": [
        {
          "data": {
            "text/plain": [
              "3"
            ]
          },
          "execution_count": 4,
          "metadata": {},
          "output_type": "execute_result"
        }
      ],
      "source": [
        "my_tuple.count(5)\n",
        "#using for how many times element used in tuple"
      ]
    },
    {
      "cell_type": "code",
      "execution_count": null,
      "metadata": {
        "id": "t_F6r2jNzctg",
        "outputId": "c68a9a3b-04ee-43a8-f487-f88eef61e02a"
      },
      "outputs": [
        {
          "data": {
            "text/plain": [
              "5"
            ]
          },
          "execution_count": 5,
          "metadata": {},
          "output_type": "execute_result"
        }
      ],
      "source": [
        "my_tuple.index(4)\n",
        "#using for what is the index of element"
      ]
    },
    {
      "cell_type": "markdown",
      "metadata": {
        "id": "m_O5dVwCzctg"
      },
      "source": [
        "# Dict data typye"
      ]
    },
    {
      "cell_type": "code",
      "execution_count": null,
      "metadata": {
        "id": "9ZVLBhYvzctg",
        "outputId": "b526182d-b60a-4a28-9865-ec67b20e63d0"
      },
      "outputs": [
        {
          "data": {
            "text/plain": [
              "{'one': 1, 'two': 2, 'three': 3}"
            ]
          },
          "execution_count": 6,
          "metadata": {},
          "output_type": "execute_result"
        }
      ],
      "source": [
        "my_dict = {\"one\": 1, \"two\":2, \"three\": 3}\n",
        "my_dict"
      ]
    },
    {
      "cell_type": "code",
      "execution_count": null,
      "metadata": {
        "id": "smzshelazcth",
        "outputId": "ce48a778-81e7-4996-97c5-21ede583b563"
      },
      "outputs": [
        {
          "data": {
            "text/plain": [
              "1"
            ]
          },
          "execution_count": 7,
          "metadata": {},
          "output_type": "execute_result"
        }
      ],
      "source": [
        "my_dict[\"one\"]"
      ]
    },
    {
      "cell_type": "code",
      "execution_count": null,
      "metadata": {
        "id": "E8g7BGFYzcth",
        "outputId": "1dd53e01-f16b-4d5b-9ccb-180c62f75b0a"
      },
      "outputs": [
        {
          "data": {
            "text/plain": [
              "{'one': 1, 'two': 2, 'three': 3, 'four': 4}"
            ]
          },
          "execution_count": 8,
          "metadata": {},
          "output_type": "execute_result"
        }
      ],
      "source": [
        "my_dict[\"four\"] = 4\n",
        "#if wanna add variables\n",
        "my_dict"
      ]
    },
    {
      "cell_type": "code",
      "execution_count": null,
      "metadata": {
        "id": "6D7qAl-Mzcth",
        "outputId": "e8175ee9-3fc8-4ee5-956c-b60f45b3be46"
      },
      "outputs": [
        {
          "data": {
            "text/plain": [
              "dict_items([('one', 1), ('two', 2), ('three', 3), ('four', 4)])"
            ]
          },
          "execution_count": 12,
          "metadata": {},
          "output_type": "execute_result"
        }
      ],
      "source": [
        "my_dict.keys()\n",
        "my_dict.values()\n",
        "my_dict.items()\n",
        "#for walking throught dictionary"
      ]
    },
    {
      "cell_type": "markdown",
      "metadata": {
        "id": "zP3o9GRGzcth"
      },
      "source": [
        "# Input syntax"
      ]
    },
    {
      "cell_type": "code",
      "execution_count": null,
      "metadata": {
        "id": "afIOnpKvzcth",
        "outputId": "2b392609-bd3e-406c-aa6d-239de13f9785"
      },
      "outputs": [
        {
          "name": "stdout",
          "output_type": "stream",
          "text": [
            "Enter a number 13\n"
          ]
        },
        {
          "data": {
            "text/plain": [
              "'13'"
            ]
          },
          "execution_count": 14,
          "metadata": {},
          "output_type": "execute_result"
        }
      ],
      "source": [
        "input(\"Enter a number \")"
      ]
    },
    {
      "cell_type": "code",
      "execution_count": null,
      "metadata": {
        "id": "uVT8k7Jszcth",
        "outputId": "a2c9f2a8-696a-4fec-c0ca-42a6ff125413"
      },
      "outputs": [
        {
          "name": "stdout",
          "output_type": "stream",
          "text": [
            "Enter a number: 45\n",
            "4545454545\n"
          ]
        }
      ],
      "source": [
        "a = input(\"Enter a number: \")\n",
        "print(a*5)"
      ]
    },
    {
      "cell_type": "markdown",
      "metadata": {
        "id": "D2kmIjTyzcth"
      },
      "source": [
        "* input func receive string data type for using other types must write the type before input"
      ]
    },
    {
      "cell_type": "code",
      "execution_count": null,
      "metadata": {
        "id": "MnaOB2Eyzcth",
        "outputId": "e7ff8ad5-f3f5-478a-a274-e59c99e75e49"
      },
      "outputs": [
        {
          "name": "stdout",
          "output_type": "stream",
          "text": [
            "Enter a number: 5\n",
            "Enter an another number: 10\n",
            "Sum of them is  15\n"
          ]
        }
      ],
      "source": [
        "a = int(input(\"Enter a number: \"))\n",
        "b = int(input(\"Enter an another number: \"))\n",
        "print(\"Sum of them is \", a+b)"
      ]
    },
    {
      "cell_type": "markdown",
      "metadata": {
        "id": "6YQJszoyzcth"
      },
      "source": [
        "# or, and, not"
      ]
    },
    {
      "cell_type": "markdown",
      "metadata": {
        "id": "4wIbeVxazcth"
      },
      "source": [
        "* or == ||, and == && according to C language\n",
        "* not is chanching the resut. If result is true, it will be false with using not"
      ]
    },
    {
      "cell_type": "markdown",
      "metadata": {
        "id": "oywTFZAqzcth"
      },
      "source": [
        "# If, elif, else"
      ]
    },
    {
      "cell_type": "code",
      "execution_count": null,
      "metadata": {
        "id": "4LbQans0zcth",
        "outputId": "ae4f0140-0c95-4b1b-cc35-a99c5fd55ed3"
      },
      "outputs": [
        {
          "name": "stdout",
          "output_type": "stream",
          "text": [
            "Enter a number: 5\n",
            "It is a positive number.\n"
          ]
        }
      ],
      "source": [
        "num = int(input(\"Enter a number: \"))\n",
        "if num<0:\n",
        "    print(\"It is a negative number.\")\n",
        "elif num==0:\n",
        "    print(\"It is a null character.\")\n",
        "else:\n",
        "    print(\"It is a positive number.\")"
      ]
    },
    {
      "cell_type": "markdown",
      "metadata": {
        "id": "n6p04fM1zcth"
      },
      "source": [
        "* elif == else if, in C other ones are same"
      ]
    },
    {
      "cell_type": "markdown",
      "metadata": {
        "id": "_jdZt9aazcth"
      },
      "source": [
        "# List Comprehension"
      ]
    },
    {
      "cell_type": "code",
      "execution_count": null,
      "metadata": {
        "id": "SjaORMJRzcti",
        "outputId": "2a57f504-3d26-4789-9b49-0effe91f4fa2"
      },
      "outputs": [
        {
          "data": {
            "text/plain": [
              "[1, 2, 4, 7, 9]"
            ]
          },
          "execution_count": 1,
          "metadata": {},
          "output_type": "execute_result"
        }
      ],
      "source": [
        "my_list=[1,2,4,7,9]\n",
        "my_list1=[i for i in my_list]\n",
        "my_list1"
      ]
    },
    {
      "cell_type": "markdown",
      "metadata": {
        "id": "laWHfsUTzcti"
      },
      "source": [
        "* You dont have to write large codes"
      ]
    },
    {
      "cell_type": "code",
      "execution_count": null,
      "metadata": {
        "id": "MZCSvZrbzcti",
        "outputId": "0afeaa27-105e-45cc-9898-104813d27a56"
      },
      "outputs": [
        {
          "name": "stdout",
          "output_type": "stream",
          "text": [
            "[1, 2, 3]\n",
            "[4, 5]\n",
            "[6, 7, 8, 9]\n"
          ]
        }
      ],
      "source": [
        "list1 = [[1,2,3],[4,5],[6,7,8,9]]\n",
        "for i in list1:\n",
        "    print(i)"
      ]
    },
    {
      "cell_type": "code",
      "execution_count": null,
      "metadata": {
        "id": "mZtvv6KOzcti",
        "outputId": "bd2ad23d-d9ef-49ff-c418-92c966cd27b4"
      },
      "outputs": [
        {
          "name": "stdout",
          "output_type": "stream",
          "text": [
            "1\n",
            "2\n",
            "3\n",
            "4\n",
            "5\n",
            "6\n",
            "7\n",
            "8\n",
            "9\n"
          ]
        }
      ],
      "source": [
        "for i in list1:\n",
        "    for x in i:\n",
        "        print(x)"
      ]
    },
    {
      "cell_type": "code",
      "execution_count": null,
      "metadata": {
        "id": "lO2cCbTOzcti"
      },
      "outputs": [],
      "source": [
        "list1 = [[1,2,3],[4,5],[6,7,8,9]]\n",
        "list2 = []"
      ]
    },
    {
      "cell_type": "code",
      "execution_count": null,
      "metadata": {
        "id": "PXHwvllAzcti",
        "outputId": "fe60f72e-cb88-4a63-ad3e-b4c97261553c"
      },
      "outputs": [
        {
          "name": "stdout",
          "output_type": "stream",
          "text": [
            "[1, 2, 3, 4, 5, 6, 7, 8, 9]\n"
          ]
        }
      ],
      "source": [
        "list2 = [x for i in list1 for x in i]\n",
        "print(list2)"
      ]
    },
    {
      "cell_type": "markdown",
      "metadata": {
        "id": "2A3rEwnFzcti"
      },
      "source": [
        "* If wanna put together all elements"
      ]
    },
    {
      "cell_type": "markdown",
      "metadata": {
        "id": "Z_X0XncTzcti"
      },
      "source": [
        "# round(x,2) type"
      ]
    },
    {
      "cell_type": "markdown",
      "metadata": {
        "id": "KmIEusITzcti"
      },
      "source": [
        "* if wanna round a float round(variable,number of digit)"
      ]
    },
    {
      "cell_type": "markdown",
      "metadata": {
        "id": "e_IWpZc0zcti"
      },
      "source": [
        "# Methods"
      ]
    },
    {
      "cell_type": "code",
      "execution_count": null,
      "metadata": {
        "id": "MG3SbbV3zcti",
        "outputId": "f017a2d3-e871-4aef-99e5-d7759672b147"
      },
      "outputs": [
        {
          "data": {
            "text/plain": [
              "[1, 2, 3, 45, 4]"
            ]
          },
          "execution_count": 1,
          "metadata": {},
          "output_type": "execute_result"
        }
      ],
      "source": [
        "a=[1,2,3,4]\n",
        "a.insert(3,45)\n",
        "a"
      ]
    },
    {
      "cell_type": "code",
      "execution_count": null,
      "metadata": {
        "id": "ln0oHfeVzctj"
      },
      "outputs": [],
      "source": [
        "a=[12,45,48,54]\n",
        "a.insert(3,45)"
      ]
    },
    {
      "cell_type": "code",
      "execution_count": null,
      "metadata": {
        "id": "doPZUuc3zctj",
        "outputId": "0171dc16-9c78-442a-ebb1-407eb82c7839"
      },
      "outputs": [
        {
          "data": {
            "text/plain": [
              "[12, 45, 48, 45, 54]"
            ]
          },
          "execution_count": 3,
          "metadata": {},
          "output_type": "execute_result"
        }
      ],
      "source": [
        "a"
      ]
    },
    {
      "cell_type": "markdown",
      "metadata": {
        "id": "A_PBrVPozctj"
      },
      "source": [
        "# help()"
      ]
    },
    {
      "cell_type": "markdown",
      "metadata": {
        "id": "YTu5Hwa3zctj"
      },
      "source": [
        "* if you forget how to use the method you can use this func"
      ]
    },
    {
      "cell_type": "code",
      "execution_count": null,
      "metadata": {
        "id": "_M8gbk93zctj",
        "outputId": "1df1ff8f-0015-439d-839f-45a7b5a1e452"
      },
      "outputs": [
        {
          "name": "stdout",
          "output_type": "stream",
          "text": [
            "Help on built-in function append:\n",
            "\n",
            "append(object, /) method of builtins.list instance\n",
            "    Append object to the end of the list.\n",
            "\n"
          ]
        }
      ],
      "source": [
        "help(a.append)"
      ]
    },
    {
      "cell_type": "markdown",
      "metadata": {
        "id": "uJf2JvDUzctj"
      },
      "source": [
        "# Functions"
      ]
    },
    {
      "cell_type": "code",
      "execution_count": null,
      "metadata": {
        "id": "k1YjD9Ddzctj"
      },
      "outputs": [],
      "source": [
        "def name(name):\n",
        "    print(\"Your name is\", name)"
      ]
    },
    {
      "cell_type": "code",
      "execution_count": null,
      "metadata": {
        "id": "lpkNfXmFzctj",
        "outputId": "cd3fb1dd-cb70-43b5-dcdb-40cca178c772"
      },
      "outputs": [
        {
          "name": "stdout",
          "output_type": "stream",
          "text": [
            "Your name is Mehmet\n"
          ]
        }
      ],
      "source": [
        "name(\"Mehmet\")"
      ]
    },
    {
      "cell_type": "markdown",
      "metadata": {
        "id": "VoQm147Xzctj"
      },
      "source": [
        "* This type is void type it returns nothing"
      ]
    },
    {
      "cell_type": "code",
      "execution_count": null,
      "metadata": {
        "id": "hKwMd5emzctj"
      },
      "outputs": [],
      "source": [
        "def factorial(num):\n",
        "    fak=1\n",
        "    if(num==0 or num==1):\n",
        "        fak=1\n",
        "    else:\n",
        "        while(num>=1):\n",
        "            fak*=num\n",
        "            num-=1\n",
        "    return fak"
      ]
    },
    {
      "cell_type": "code",
      "execution_count": null,
      "metadata": {
        "id": "4sutx7Dgzctj",
        "outputId": "11357b71-cb6b-41e4-e73e-15d0241029a5"
      },
      "outputs": [
        {
          "data": {
            "text/plain": [
              "120"
            ]
          },
          "execution_count": 12,
          "metadata": {},
          "output_type": "execute_result"
        }
      ],
      "source": [
        "factorial(5)"
      ]
    },
    {
      "cell_type": "markdown",
      "metadata": {
        "id": "_qc8-SR6zctj"
      },
      "source": [
        "* if wanna make mathematical operations u have to use return"
      ]
    },
    {
      "cell_type": "code",
      "execution_count": null,
      "metadata": {
        "id": "kXL8Jggtzctj"
      },
      "outputs": [],
      "source": [
        "def sum(*a):\n",
        "    sum=0\n",
        "    for i in a:\n",
        "        sum+=i\n",
        "    return sum"
      ]
    },
    {
      "cell_type": "code",
      "execution_count": null,
      "metadata": {
        "id": "UT2-7Yqgzctj",
        "outputId": "043fbb5d-9749-4004-d338-02a34e4d6951"
      },
      "outputs": [
        {
          "data": {
            "text/plain": [
              "15"
            ]
          },
          "execution_count": 14,
          "metadata": {},
          "output_type": "execute_result"
        }
      ],
      "source": [
        "sum(4,5,6)"
      ]
    },
    {
      "cell_type": "markdown",
      "metadata": {
        "id": "glPlGmq9zctj"
      },
      "source": [
        "* *a if dont know how many variable we will calculate"
      ]
    },
    {
      "cell_type": "markdown",
      "metadata": {
        "id": "OpN20U43zctk"
      },
      "source": [
        "# Lambda"
      ]
    },
    {
      "cell_type": "markdown",
      "metadata": {
        "id": "76wlMZpXzctk"
      },
      "source": [
        "* If use small function and wanna write the function basicaly"
      ]
    },
    {
      "cell_type": "code",
      "execution_count": null,
      "metadata": {
        "id": "UsKtzFeKzctk"
      },
      "outputs": [],
      "source": [
        "def multitwo(i):\n",
        "    return i*2;"
      ]
    },
    {
      "cell_type": "code",
      "execution_count": null,
      "metadata": {
        "id": "7-Qmb1_ozctk",
        "outputId": "3880abd5-8d4e-4263-c9ed-2be87217f381"
      },
      "outputs": [
        {
          "name": "stdout",
          "output_type": "stream",
          "text": [
            "10\n"
          ]
        }
      ],
      "source": [
        "print(multitwo(5))"
      ]
    },
    {
      "cell_type": "markdown",
      "metadata": {
        "id": "Kh9vUaJhzctk"
      },
      "source": [
        "* or"
      ]
    },
    {
      "cell_type": "code",
      "execution_count": null,
      "metadata": {
        "id": "YFGbl0WHzctk"
      },
      "outputs": [],
      "source": [
        "multiTwo = lambda i: i*2"
      ]
    },
    {
      "cell_type": "code",
      "execution_count": null,
      "metadata": {
        "id": "Ta0tp3jmzctk",
        "outputId": "ea782259-45f3-45bf-d08c-e3cc91531b2e"
      },
      "outputs": [
        {
          "name": "stdout",
          "output_type": "stream",
          "text": [
            "12\n"
          ]
        }
      ],
      "source": [
        "print(multiTwo(6))"
      ]
    },
    {
      "cell_type": "code",
      "execution_count": null,
      "metadata": {
        "id": "6fBjBv-Kzctk"
      },
      "outputs": [],
      "source": [
        "def evenOdd(i):\n",
        "    return i%2==0"
      ]
    },
    {
      "cell_type": "markdown",
      "metadata": {
        "id": "w9DSvCffzctk"
      },
      "source": [
        "* if operation in return true it will return true and false in otherwise"
      ]
    },
    {
      "cell_type": "code",
      "execution_count": null,
      "metadata": {
        "id": "3JdLk97gzctk",
        "outputId": "96638fe0-4184-4c6a-9331-ee1fb29da47a"
      },
      "outputs": [
        {
          "data": {
            "text/plain": [
              "False"
            ]
          },
          "execution_count": 6,
          "metadata": {},
          "output_type": "execute_result"
        }
      ],
      "source": [
        "evenOdd(15)"
      ]
    },
    {
      "cell_type": "code",
      "execution_count": null,
      "metadata": {
        "id": "C0vOnk3Ozctk"
      },
      "outputs": [],
      "source": [
        "ovenODD = lambda i: i%2==0"
      ]
    },
    {
      "cell_type": "code",
      "execution_count": null,
      "metadata": {
        "id": "0m-Oqj_Qzctk",
        "outputId": "2ae4383b-7b77-4a7f-bb44-7fd33e10ddb6"
      },
      "outputs": [
        {
          "name": "stdout",
          "output_type": "stream",
          "text": [
            "True\n"
          ]
        }
      ],
      "source": [
        "print(ovenODD(14))"
      ]
    },
    {
      "cell_type": "markdown",
      "metadata": {
        "id": "lbuFB1sszctk"
      },
      "source": [
        "# MODULES"
      ]
    },
    {
      "cell_type": "markdown",
      "metadata": {
        "id": "cktg3C0pzctk"
      },
      "source": [
        "* Modules are saved functions as library in C"
      ]
    },
    {
      "cell_type": "markdown",
      "metadata": {
        "id": "SNVyluXIzctk"
      },
      "source": [
        "* import math --> #include <math.h>"
      ]
    },
    {
      "cell_type": "markdown",
      "metadata": {
        "id": "6h2lCRb5zctk"
      },
      "source": [
        "* You can change name of module like --> import math as matematik"
      ]
    },
    {
      "cell_type": "code",
      "execution_count": null,
      "metadata": {
        "id": "ubNseAPnzctk"
      },
      "outputs": [],
      "source": [
        "import math"
      ]
    },
    {
      "cell_type": "markdown",
      "metadata": {
        "id": "BL7RfiCazctk"
      },
      "source": [
        "* These are the functions in math"
      ]
    },
    {
      "cell_type": "code",
      "execution_count": null,
      "metadata": {
        "id": "6PXAR0RAzctk",
        "outputId": "3c78d77c-16fe-49a8-e46f-6494ece15a71"
      },
      "outputs": [
        {
          "data": {
            "text/plain": [
              "['__doc__',\n",
              " '__loader__',\n",
              " '__name__',\n",
              " '__package__',\n",
              " '__spec__',\n",
              " 'acos',\n",
              " 'acosh',\n",
              " 'asin',\n",
              " 'asinh',\n",
              " 'atan',\n",
              " 'atan2',\n",
              " 'atanh',\n",
              " 'ceil',\n",
              " 'copysign',\n",
              " 'cos',\n",
              " 'cosh',\n",
              " 'degrees',\n",
              " 'e',\n",
              " 'erf',\n",
              " 'erfc',\n",
              " 'exp',\n",
              " 'expm1',\n",
              " 'fabs',\n",
              " 'factorial',\n",
              " 'floor',\n",
              " 'fmod',\n",
              " 'frexp',\n",
              " 'fsum',\n",
              " 'gamma',\n",
              " 'gcd',\n",
              " 'hypot',\n",
              " 'inf',\n",
              " 'isclose',\n",
              " 'isfinite',\n",
              " 'isinf',\n",
              " 'isnan',\n",
              " 'ldexp',\n",
              " 'lgamma',\n",
              " 'log',\n",
              " 'log10',\n",
              " 'log1p',\n",
              " 'log2',\n",
              " 'modf',\n",
              " 'nan',\n",
              " 'pi',\n",
              " 'pow',\n",
              " 'radians',\n",
              " 'remainder',\n",
              " 'sin',\n",
              " 'sinh',\n",
              " 'sqrt',\n",
              " 'tan',\n",
              " 'tanh',\n",
              " 'tau',\n",
              " 'trunc']"
            ]
          },
          "execution_count": 3,
          "metadata": {},
          "output_type": "execute_result"
        }
      ],
      "source": [
        "dir(math)"
      ]
    },
    {
      "cell_type": "markdown",
      "metadata": {
        "id": "StwcfUKQzctk"
      },
      "source": [
        "* To see what functions math module has"
      ]
    },
    {
      "cell_type": "code",
      "execution_count": null,
      "metadata": {
        "id": "dJvhy5nKzctl",
        "outputId": "7ac34fc1-7018-4bbf-84e6-78d89ef1979f"
      },
      "outputs": [
        {
          "name": "stdout",
          "output_type": "stream",
          "text": [
            "Help on built-in module math:\n",
            "\n",
            "NAME\n",
            "    math\n",
            "\n",
            "DESCRIPTION\n",
            "    This module provides access to the mathematical functions\n",
            "    defined by the C standard.\n",
            "\n",
            "FUNCTIONS\n",
            "    acos(x, /)\n",
            "        Return the arc cosine (measured in radians) of x.\n",
            "    \n",
            "    acosh(x, /)\n",
            "        Return the inverse hyperbolic cosine of x.\n",
            "    \n",
            "    asin(x, /)\n",
            "        Return the arc sine (measured in radians) of x.\n",
            "    \n",
            "    asinh(x, /)\n",
            "        Return the inverse hyperbolic sine of x.\n",
            "    \n",
            "    atan(x, /)\n",
            "        Return the arc tangent (measured in radians) of x.\n",
            "    \n",
            "    atan2(y, x, /)\n",
            "        Return the arc tangent (measured in radians) of y/x.\n",
            "        \n",
            "        Unlike atan(y/x), the signs of both x and y are considered.\n",
            "    \n",
            "    atanh(x, /)\n",
            "        Return the inverse hyperbolic tangent of x.\n",
            "    \n",
            "    ceil(x, /)\n",
            "        Return the ceiling of x as an Integral.\n",
            "        \n",
            "        This is the smallest integer >= x.\n",
            "    \n",
            "    copysign(x, y, /)\n",
            "        Return a float with the magnitude (absolute value) of x but the sign of y.\n",
            "        \n",
            "        On platforms that support signed zeros, copysign(1.0, -0.0)\n",
            "        returns -1.0.\n",
            "    \n",
            "    cos(x, /)\n",
            "        Return the cosine of x (measured in radians).\n",
            "    \n",
            "    cosh(x, /)\n",
            "        Return the hyperbolic cosine of x.\n",
            "    \n",
            "    degrees(x, /)\n",
            "        Convert angle x from radians to degrees.\n",
            "    \n",
            "    erf(x, /)\n",
            "        Error function at x.\n",
            "    \n",
            "    erfc(x, /)\n",
            "        Complementary error function at x.\n",
            "    \n",
            "    exp(x, /)\n",
            "        Return e raised to the power of x.\n",
            "    \n",
            "    expm1(x, /)\n",
            "        Return exp(x)-1.\n",
            "        \n",
            "        This function avoids the loss of precision involved in the direct evaluation of exp(x)-1 for small x.\n",
            "    \n",
            "    fabs(x, /)\n",
            "        Return the absolute value of the float x.\n",
            "    \n",
            "    factorial(x, /)\n",
            "        Find x!.\n",
            "        \n",
            "        Raise a ValueError if x is negative or non-integral.\n",
            "    \n",
            "    floor(x, /)\n",
            "        Return the floor of x as an Integral.\n",
            "        \n",
            "        This is the largest integer <= x.\n",
            "    \n",
            "    fmod(x, y, /)\n",
            "        Return fmod(x, y), according to platform C.\n",
            "        \n",
            "        x % y may differ.\n",
            "    \n",
            "    frexp(x, /)\n",
            "        Return the mantissa and exponent of x, as pair (m, e).\n",
            "        \n",
            "        m is a float and e is an int, such that x = m * 2.**e.\n",
            "        If x is 0, m and e are both 0.  Else 0.5 <= abs(m) < 1.0.\n",
            "    \n",
            "    fsum(seq, /)\n",
            "        Return an accurate floating point sum of values in the iterable seq.\n",
            "        \n",
            "        Assumes IEEE-754 floating point arithmetic.\n",
            "    \n",
            "    gamma(x, /)\n",
            "        Gamma function at x.\n",
            "    \n",
            "    gcd(x, y, /)\n",
            "        greatest common divisor of x and y\n",
            "    \n",
            "    hypot(x, y, /)\n",
            "        Return the Euclidean distance, sqrt(x*x + y*y).\n",
            "    \n",
            "    isclose(a, b, *, rel_tol=1e-09, abs_tol=0.0)\n",
            "        Determine whether two floating point numbers are close in value.\n",
            "        \n",
            "          rel_tol\n",
            "            maximum difference for being considered \"close\", relative to the\n",
            "            magnitude of the input values\n",
            "          abs_tol\n",
            "            maximum difference for being considered \"close\", regardless of the\n",
            "            magnitude of the input values\n",
            "        \n",
            "        Return True if a is close in value to b, and False otherwise.\n",
            "        \n",
            "        For the values to be considered close, the difference between them\n",
            "        must be smaller than at least one of the tolerances.\n",
            "        \n",
            "        -inf, inf and NaN behave similarly to the IEEE 754 Standard.  That\n",
            "        is, NaN is not close to anything, even itself.  inf and -inf are\n",
            "        only close to themselves.\n",
            "    \n",
            "    isfinite(x, /)\n",
            "        Return True if x is neither an infinity nor a NaN, and False otherwise.\n",
            "    \n",
            "    isinf(x, /)\n",
            "        Return True if x is a positive or negative infinity, and False otherwise.\n",
            "    \n",
            "    isnan(x, /)\n",
            "        Return True if x is a NaN (not a number), and False otherwise.\n",
            "    \n",
            "    ldexp(x, i, /)\n",
            "        Return x * (2**i).\n",
            "        \n",
            "        This is essentially the inverse of frexp().\n",
            "    \n",
            "    lgamma(x, /)\n",
            "        Natural logarithm of absolute value of Gamma function at x.\n",
            "    \n",
            "    log(...)\n",
            "        log(x, [base=math.e])\n",
            "        Return the logarithm of x to the given base.\n",
            "        \n",
            "        If the base not specified, returns the natural logarithm (base e) of x.\n",
            "    \n",
            "    log10(x, /)\n",
            "        Return the base 10 logarithm of x.\n",
            "    \n",
            "    log1p(x, /)\n",
            "        Return the natural logarithm of 1+x (base e).\n",
            "        \n",
            "        The result is computed in a way which is accurate for x near zero.\n",
            "    \n",
            "    log2(x, /)\n",
            "        Return the base 2 logarithm of x.\n",
            "    \n",
            "    modf(x, /)\n",
            "        Return the fractional and integer parts of x.\n",
            "        \n",
            "        Both results carry the sign of x and are floats.\n",
            "    \n",
            "    pow(x, y, /)\n",
            "        Return x**y (x to the power of y).\n",
            "    \n",
            "    radians(x, /)\n",
            "        Convert angle x from degrees to radians.\n",
            "    \n",
            "    remainder(x, y, /)\n",
            "        Difference between x and the closest integer multiple of y.\n",
            "        \n",
            "        Return x - n*y where n*y is the closest integer multiple of y.\n",
            "        In the case where x is exactly halfway between two multiples of\n",
            "        y, the nearest even value of n is used. The result is always exact.\n",
            "    \n",
            "    sin(x, /)\n",
            "        Return the sine of x (measured in radians).\n",
            "    \n",
            "    sinh(x, /)\n",
            "        Return the hyperbolic sine of x.\n",
            "    \n",
            "    sqrt(x, /)\n",
            "        Return the square root of x.\n",
            "    \n",
            "    tan(x, /)\n",
            "        Return the tangent of x (measured in radians).\n",
            "    \n",
            "    tanh(x, /)\n",
            "        Return the hyperbolic tangent of x.\n",
            "    \n",
            "    trunc(x, /)\n",
            "        Truncates the Real x to the nearest Integral toward 0.\n",
            "        \n",
            "        Uses the __trunc__ magic method.\n",
            "\n",
            "DATA\n",
            "    e = 2.718281828459045\n",
            "    inf = inf\n",
            "    nan = nan\n",
            "    pi = 3.141592653589793\n",
            "    tau = 6.283185307179586\n",
            "\n",
            "FILE\n",
            "    (built-in)\n",
            "\n",
            "\n"
          ]
        }
      ],
      "source": [
        "help(math)"
      ]
    },
    {
      "cell_type": "code",
      "execution_count": null,
      "metadata": {
        "id": "MGfYsVNGzctl",
        "outputId": "e8363287-70d7-492c-eb3c-90a2d3a16005"
      },
      "outputs": [
        {
          "data": {
            "text/plain": [
              "120"
            ]
          },
          "execution_count": 5,
          "metadata": {},
          "output_type": "execute_result"
        }
      ],
      "source": [
        "math.factorial(5)"
      ]
    },
    {
      "cell_type": "code",
      "execution_count": null,
      "metadata": {
        "id": "EEf0VtSIzctl"
      },
      "outputs": [],
      "source": [
        "import math as matematik"
      ]
    },
    {
      "cell_type": "code",
      "execution_count": null,
      "metadata": {
        "id": "KUFsRvxSzctl",
        "outputId": "638bfcb0-fb44-41c1-e9b1-3a4de3ce144e"
      },
      "outputs": [
        {
          "name": "stdout",
          "output_type": "stream",
          "text": [
            "5040\n"
          ]
        }
      ],
      "source": [
        "print(matematik.factorial(7))"
      ]
    },
    {
      "cell_type": "code",
      "execution_count": null,
      "metadata": {
        "id": "c9sQodCczctl",
        "outputId": "0d3b4b52-a2fc-46ca-f80e-7cbfaa3e943c"
      },
      "outputs": [
        {
          "name": "stdout",
          "output_type": "stream",
          "text": [
            "1.0\n"
          ]
        }
      ],
      "source": [
        "print(math.log10(10))"
      ]
    },
    {
      "cell_type": "markdown",
      "metadata": {
        "id": "L6vsdYd6zctl"
      },
      "source": [
        "# from module import *"
      ]
    },
    {
      "cell_type": "code",
      "execution_count": null,
      "metadata": {
        "id": "xp01AcWXzctl"
      },
      "outputs": [],
      "source": [
        "from math import *"
      ]
    },
    {
      "cell_type": "markdown",
      "metadata": {
        "id": "Oadd5ZIizctl"
      },
      "source": [
        "* difference between import module is dont have to write module again"
      ]
    },
    {
      "cell_type": "code",
      "execution_count": null,
      "metadata": {
        "id": "Ljqor7JTzctl",
        "outputId": "6163c39a-8e95-4b1d-ca2e-b34388e71a3d"
      },
      "outputs": [
        {
          "data": {
            "text/plain": [
              "120"
            ]
          },
          "execution_count": 11,
          "metadata": {},
          "output_type": "execute_result"
        }
      ],
      "source": [
        "factorial(5)"
      ]
    },
    {
      "cell_type": "code",
      "execution_count": null,
      "metadata": {
        "id": "wWL-i5AZzctl",
        "outputId": "068d338f-152e-4614-b5e3-6d7e43e8af81"
      },
      "outputs": [
        {
          "data": {
            "text/plain": [
              "5"
            ]
          },
          "execution_count": 12,
          "metadata": {},
          "output_type": "execute_result"
        }
      ],
      "source": [
        "floor(5.6)"
      ]
    },
    {
      "cell_type": "markdown",
      "metadata": {
        "id": "XxugQDYJzctl"
      },
      "source": [
        "# Create own module"
      ]
    },
    {
      "cell_type": "markdown",
      "metadata": {
        "id": "nVoqkdEAzctl"
      },
      "source": [
        "* first files of module and writing part have to be in same folder to create own module"
      ]
    },
    {
      "cell_type": "markdown",
      "metadata": {
        "id": "FVuVs03tzctl"
      },
      "source": [
        "# Classes"
      ]
    },
    {
      "cell_type": "markdown",
      "metadata": {
        "id": "5sWeQtqBzctl"
      },
      "source": [
        "* They seems like struct in C"
      ]
    },
    {
      "cell_type": "code",
      "execution_count": null,
      "metadata": {
        "id": "Kz1Hh-Mizctl"
      },
      "outputs": [],
      "source": [
        "class Student():\n",
        "    name = \"Mehmet\"\n",
        "    surname = \"IŞIK\"\n",
        "    nu = 19067607"
      ]
    },
    {
      "cell_type": "code",
      "execution_count": null,
      "metadata": {
        "id": "tb4UQ4gxzctl"
      },
      "outputs": [],
      "source": [
        "s1 = Student"
      ]
    },
    {
      "cell_type": "code",
      "execution_count": null,
      "metadata": {
        "id": "m81oqdtxzctl",
        "outputId": "485cab5c-408c-4dee-ef64-a4a0ea9459c1"
      },
      "outputs": [
        {
          "data": {
            "text/plain": [
              "__main__.Student"
            ]
          },
          "execution_count": 3,
          "metadata": {},
          "output_type": "execute_result"
        }
      ],
      "source": [
        "s1"
      ]
    },
    {
      "cell_type": "code",
      "execution_count": null,
      "metadata": {
        "id": "gZrX3iBdzctm",
        "outputId": "a00928f0-89de-4feb-f3ce-f86a1979bca3"
      },
      "outputs": [
        {
          "data": {
            "text/plain": [
              "'Mehmet'"
            ]
          },
          "execution_count": 4,
          "metadata": {},
          "output_type": "execute_result"
        }
      ],
      "source": [
        "s1.name"
      ]
    },
    {
      "cell_type": "markdown",
      "metadata": {
        "id": "Dm5lFJA6zctm"
      },
      "source": [
        "* If wanna change variablles:"
      ]
    },
    {
      "cell_type": "markdown",
      "metadata": {
        "id": "tBSZVw_uzctm"
      },
      "source": [
        "* use __init__(): func.\n",
        "* firstly you have to write self inside init then define variable by using self"
      ]
    },
    {
      "cell_type": "code",
      "execution_count": null,
      "metadata": {
        "id": "qG_U3DEgzctm"
      },
      "outputs": [],
      "source": [
        "class Student():\n",
        "    def __init__(self,name = \"No info\",surname = \"No info\",nu = 3235):\n",
        "        self.name = name\n",
        "        self.surname = surname\n",
        "        self.nu = nu"
      ]
    },
    {
      "cell_type": "code",
      "execution_count": null,
      "metadata": {
        "id": "2unRJ1J1zctm",
        "outputId": "b573f7d9-dc74-4c0c-da03-571171c55cb1"
      },
      "outputs": [
        {
          "name": "stdout",
          "output_type": "stream",
          "text": [
            "Işık\n"
          ]
        }
      ],
      "source": [
        "s1 = Student(\"Mehmet\",\"Işık\",19067607)\n",
        "print(s1.surname)"
      ]
    },
    {
      "cell_type": "code",
      "execution_count": null,
      "metadata": {
        "id": "Us7wq0xFzctm"
      },
      "outputs": [],
      "source": [
        "class Book():\n",
        "    def __init__(self,name,author,page,types):\n",
        "        print(\"Init started.\")\n",
        "        self.name=name\n",
        "        self.author=author\n",
        "        self.page=page\n",
        "        self.types=types\n",
        "    def __str__(self):\n",
        "        return \"Book: {}\\nAuthor: {}\\nPage: {}\\nType: {}\".format(self.name,self.author,self.page,self.types)\n",
        "    def __len__(self):\n",
        "        return self.page\n",
        "    def __del__(self):\n",
        "        print(\"Book deleted.\")"
      ]
    },
    {
      "cell_type": "code",
      "execution_count": null,
      "metadata": {
        "id": "5AyWYQL4zctm",
        "outputId": "8c91422b-0bdb-44f6-b6fe-4b02d20513ed"
      },
      "outputs": [
        {
          "name": "stdout",
          "output_type": "stream",
          "text": [
            "Init started.\n"
          ]
        }
      ],
      "source": [
        "book=Book(\"Jane EYRE\",\"Charlotte BRONTE\",400,\"Drama\")"
      ]
    },
    {
      "cell_type": "code",
      "execution_count": null,
      "metadata": {
        "id": "Ds10g9y0zctm",
        "outputId": "9c6e16ba-7852-4973-9e05-dcbb3df0389f"
      },
      "outputs": [
        {
          "name": "stdout",
          "output_type": "stream",
          "text": [
            "Book: Jane EYRE\n",
            "Author: Charlotte BRONTE\n",
            "Page: 400\n",
            "Type: Drama\n"
          ]
        }
      ],
      "source": [
        "print(book)"
      ]
    },
    {
      "cell_type": "code",
      "execution_count": null,
      "metadata": {
        "id": "LE9k4E54zctm",
        "outputId": "8709b717-2715-4d0c-e956-a5de662b099b"
      },
      "outputs": [
        {
          "name": "stdout",
          "output_type": "stream",
          "text": [
            "400\n"
          ]
        }
      ],
      "source": [
        "print(len(book))"
      ]
    },
    {
      "cell_type": "code",
      "execution_count": null,
      "metadata": {
        "id": "W3lvx7o2zctm",
        "outputId": "f18d1417-572b-4c62-9363-233f7e3f4801"
      },
      "outputs": [
        {
          "name": "stdout",
          "output_type": "stream",
          "text": [
            "Book deleted.\n"
          ]
        }
      ],
      "source": [
        "del(book)"
      ]
    },
    {
      "cell_type": "code",
      "execution_count": null,
      "metadata": {
        "id": "FkQROorJzctm",
        "outputId": "bf209dc1-fe7b-4a24-a44a-c71c3974e1eb"
      },
      "outputs": [
        {
          "ename": "NameError",
          "evalue": "name 'book' is not defined",
          "output_type": "error",
          "traceback": [
            "\u001b[1;31m---------------------------------------------------------------------------\u001b[0m",
            "\u001b[1;31mNameError\u001b[0m                                 Traceback (most recent call last)",
            "\u001b[1;32m<ipython-input-8-36d237dcf0c8>\u001b[0m in \u001b[0;36m<module>\u001b[1;34m\u001b[0m\n\u001b[1;32m----> 1\u001b[1;33m \u001b[0mprint\u001b[0m\u001b[1;33m(\u001b[0m\u001b[0mbook\u001b[0m\u001b[1;33m)\u001b[0m\u001b[1;33m\u001b[0m\u001b[1;33m\u001b[0m\u001b[0m\n\u001b[0m",
            "\u001b[1;31mNameError\u001b[0m: name 'book' is not defined"
          ]
        }
      ],
      "source": [
        "print(book)"
      ]
    },
    {
      "cell_type": "markdown",
      "metadata": {
        "id": "PErseDVrzctm"
      },
      "source": [
        "# Errors"
      ]
    },
    {
      "cell_type": "markdown",
      "metadata": {
        "id": "OH1_FfpAzctm"
      },
      "source": [
        "When code has errors you can use try and except modules to organize the code"
      ]
    },
    {
      "cell_type": "code",
      "execution_count": null,
      "metadata": {
        "id": "hD-m5b4kzctm",
        "outputId": "25d15505-4aaa-4346-cd5a-f9e30c8e95ca"
      },
      "outputs": [
        {
          "ename": "ValueError",
          "evalue": "invalid literal for int() with base 10: 'asdas54'",
          "output_type": "error",
          "traceback": [
            "\u001b[1;31m---------------------------------------------------------------------------\u001b[0m",
            "\u001b[1;31mValueError\u001b[0m                                Traceback (most recent call last)",
            "\u001b[1;32m<ipython-input-1-e4234da77ce1>\u001b[0m in \u001b[0;36m<module>\u001b[1;34m\u001b[0m\n\u001b[1;32m----> 1\u001b[1;33m \u001b[0mprint\u001b[0m\u001b[1;33m(\u001b[0m\u001b[0mint\u001b[0m\u001b[1;33m(\u001b[0m\u001b[1;34m\"asdas54\"\u001b[0m\u001b[1;33m)\u001b[0m\u001b[1;33m)\u001b[0m\u001b[1;33m\u001b[0m\u001b[1;33m\u001b[0m\u001b[0m\n\u001b[0m",
            "\u001b[1;31mValueError\u001b[0m: invalid literal for int() with base 10: 'asdas54'"
          ]
        }
      ],
      "source": [
        "print(int(\"asdas54\"))"
      ]
    },
    {
      "cell_type": "code",
      "execution_count": null,
      "metadata": {
        "id": "SQha7r6_zctm",
        "outputId": "512200ef-e631-49cc-8d76-9c74005fc15b"
      },
      "outputs": [
        {
          "name": "stdout",
          "output_type": "stream",
          "text": [
            "There is an error!\n"
          ]
        }
      ],
      "source": [
        "try:\n",
        "    print(int(\"sdfd455\"))\n",
        "except:\n",
        "    print(\"There is an error!\")"
      ]
    },
    {
      "cell_type": "code",
      "execution_count": null,
      "metadata": {
        "id": "pWQWGmErzctn",
        "outputId": "1bbb6530-0ae8-4cfd-9427-06a3bf216cb6"
      },
      "outputs": [
        {
          "name": "stdout",
          "output_type": "stream",
          "text": [
            "There is a value error!\n"
          ]
        }
      ],
      "source": [
        "try:\n",
        "    print(int(\"dfdd565\"))\n",
        "except ValueError:\n",
        "    print(\"There is a value error!\")"
      ]
    },
    {
      "cell_type": "code",
      "execution_count": null,
      "metadata": {
        "id": "FFfNqPhNzctn",
        "outputId": "c74c3daa-a618-47ba-ff6a-69a41e5fd514"
      },
      "outputs": [
        {
          "name": "stdout",
          "output_type": "stream",
          "text": [
            "There are problems!\n"
          ]
        }
      ],
      "source": [
        "try:\n",
        "    print(int(\"fdg565\"))\n",
        "    print(book)\n",
        "except (ValueError, NameError):\n",
        "    print(\"There are problems!\")"
      ]
    },
    {
      "cell_type": "code",
      "execution_count": null,
      "metadata": {
        "id": "3XP_Bqu6zctn",
        "outputId": "2c2287c1-a5c6-4c04-8477-133be1ccc90f"
      },
      "outputs": [
        {
          "name": "stdout",
          "output_type": "stream",
          "text": [
            "345\n",
            "14\n"
          ]
        }
      ],
      "source": [
        "myList = [\"345\",\"sadas\",\"324a\",\"14\",\"kemal\"]\n",
        "for i in range(len(myList)):\n",
        "    try:\n",
        "        print(int(myList[i]))\n",
        "    except:\n",
        "        continue"
      ]
    },
    {
      "cell_type": "code",
      "execution_count": null,
      "metadata": {
        "id": "_LKrh9-1zctn"
      },
      "outputs": [],
      "source": [
        "def reVerse(s):\n",
        "    if(type(s)!=str):\n",
        "        raise ValueError(\"Please enter a valid input.\")\n",
        "    else:\n",
        "        return s[::-1]"
      ]
    },
    {
      "cell_type": "code",
      "execution_count": null,
      "metadata": {
        "id": "PdPdu9oJzctn",
        "outputId": "30818427-92c0-4410-e6ac-050b4303cf40"
      },
      "outputs": [
        {
          "ename": "ValueError",
          "evalue": "Please enter a valid input.",
          "output_type": "error",
          "traceback": [
            "\u001b[1;31m---------------------------------------------------------------------------\u001b[0m",
            "\u001b[1;31mValueError\u001b[0m                                Traceback (most recent call last)",
            "\u001b[1;32m<ipython-input-11-59c76f66fb7e>\u001b[0m in \u001b[0;36m<module>\u001b[1;34m\u001b[0m\n\u001b[1;32m----> 1\u001b[1;33m \u001b[0mprint\u001b[0m\u001b[1;33m(\u001b[0m\u001b[0mreVerse\u001b[0m\u001b[1;33m(\u001b[0m\u001b[1;36m55\u001b[0m\u001b[1;33m)\u001b[0m\u001b[1;33m)\u001b[0m\u001b[1;33m\u001b[0m\u001b[1;33m\u001b[0m\u001b[0m\n\u001b[0m",
            "\u001b[1;32m<ipython-input-9-be565af853a6>\u001b[0m in \u001b[0;36mreVerse\u001b[1;34m(s)\u001b[0m\n\u001b[0;32m      1\u001b[0m \u001b[1;32mdef\u001b[0m \u001b[0mreVerse\u001b[0m\u001b[1;33m(\u001b[0m\u001b[0ms\u001b[0m\u001b[1;33m)\u001b[0m\u001b[1;33m:\u001b[0m\u001b[1;33m\u001b[0m\u001b[1;33m\u001b[0m\u001b[0m\n\u001b[0;32m      2\u001b[0m     \u001b[1;32mif\u001b[0m\u001b[1;33m(\u001b[0m\u001b[0mtype\u001b[0m\u001b[1;33m(\u001b[0m\u001b[0ms\u001b[0m\u001b[1;33m)\u001b[0m\u001b[1;33m!=\u001b[0m\u001b[0mstr\u001b[0m\u001b[1;33m)\u001b[0m\u001b[1;33m:\u001b[0m\u001b[1;33m\u001b[0m\u001b[1;33m\u001b[0m\u001b[0m\n\u001b[1;32m----> 3\u001b[1;33m         \u001b[1;32mraise\u001b[0m \u001b[0mValueError\u001b[0m\u001b[1;33m(\u001b[0m\u001b[1;34m\"Please enter a valid input.\"\u001b[0m\u001b[1;33m)\u001b[0m\u001b[1;33m\u001b[0m\u001b[1;33m\u001b[0m\u001b[0m\n\u001b[0m\u001b[0;32m      4\u001b[0m     \u001b[1;32melse\u001b[0m\u001b[1;33m:\u001b[0m\u001b[1;33m\u001b[0m\u001b[1;33m\u001b[0m\u001b[0m\n\u001b[0;32m      5\u001b[0m         \u001b[1;32mreturn\u001b[0m \u001b[0ms\u001b[0m\u001b[1;33m[\u001b[0m\u001b[1;33m:\u001b[0m\u001b[1;33m:\u001b[0m\u001b[1;33m-\u001b[0m\u001b[1;36m1\u001b[0m\u001b[1;33m]\u001b[0m\u001b[1;33m\u001b[0m\u001b[1;33m\u001b[0m\u001b[0m\n",
            "\u001b[1;31mValueError\u001b[0m: Please enter a valid input."
          ]
        }
      ],
      "source": [
        "print(reVerse(55))"
      ]
    },
    {
      "cell_type": "code",
      "execution_count": null,
      "metadata": {
        "id": "l1ZIlNLWzctn"
      },
      "outputs": [],
      "source": [
        "def isEven(n):\n",
        "    if(n%2!=0):\n",
        "        raise ValueError(\"Please enter a even number.\")\n",
        "    else:\n",
        "        return n"
      ]
    },
    {
      "cell_type": "code",
      "execution_count": null,
      "metadata": {
        "id": "4Nh9A3Mkzctn",
        "outputId": "24b68e7c-0b81-4d53-aa2a-59e66782608c"
      },
      "outputs": [
        {
          "name": "stdout",
          "output_type": "stream",
          "text": [
            "54\n",
            "84\n",
            "212\n"
          ]
        }
      ],
      "source": [
        "myList=[54,84,212,57,1,6]\n",
        "try:\n",
        "    for i in myList:\n",
        "        print(isEven(i))\n",
        "except ValueError:\n",
        "    pass"
      ]
    },
    {
      "cell_type": "markdown",
      "metadata": {
        "id": "dqjOdVKezctn"
      },
      "source": [
        "# Dosya Okuma ve Yazma"
      ]
    },
    {
      "cell_type": "code",
      "execution_count": null,
      "metadata": {
        "id": "IuQGnm5Ezctn"
      },
      "outputs": [],
      "source": [
        "file=open(\"knowledges\",\"w\")"
      ]
    },
    {
      "cell_type": "markdown",
      "metadata": {
        "id": "gaGW-FCwzctn"
      },
      "source": [
        "* with \"w\" if there is a document with same name it deletes the doc end rebuilt the document"
      ]
    },
    {
      "cell_type": "markdown",
      "metadata": {
        "id": "lQc6-Jopzctn"
      },
      "source": [
        "* if wanna do not rebuilt use \"a\" came from \"append\""
      ]
    },
    {
      "cell_type": "markdown",
      "metadata": {
        "id": "DAhtKr7xzctn"
      },
      "source": [
        "* if wanna use turkish letters add encoding=\"utf-8\" at the end of open method"
      ]
    },
    {
      "cell_type": "code",
      "execution_count": null,
      "metadata": {
        "id": "OUN8m9Rqzctn"
      },
      "outputs": [],
      "source": [
        "file=open(\"knowledges.txt\",\"w\",encoding=\"utf-8\")"
      ]
    },
    {
      "cell_type": "code",
      "execution_count": null,
      "metadata": {
        "id": "Rb38DNtQzctn",
        "outputId": "540dc861-6e90-4f0b-dcba-7c434677b2ba"
      },
      "outputs": [
        {
          "data": {
            "text/plain": [
              "16"
            ]
          },
          "execution_count": 16,
          "metadata": {},
          "output_type": "execute_result"
        }
      ],
      "source": [
        "file.write(\"Mehmet Ali IŞIK\\n\")"
      ]
    },
    {
      "cell_type": "code",
      "execution_count": null,
      "metadata": {
        "id": "prhK7Q2yzctn"
      },
      "outputs": [],
      "source": [
        "file.close()"
      ]
    },
    {
      "cell_type": "code",
      "execution_count": null,
      "metadata": {
        "id": "9uBqSvhxzctn"
      },
      "outputs": [],
      "source": [
        "file=open(\"knowledges.txt\",\"a\",encoding=\"utf-8\")"
      ]
    },
    {
      "cell_type": "code",
      "execution_count": null,
      "metadata": {
        "id": "XJyIwPUPzctn",
        "outputId": "e95b6e03-1c6d-41b1-de47-fd65231ab22c"
      },
      "outputs": [
        {
          "data": {
            "text/plain": [
              "15"
            ]
          },
          "execution_count": 19,
          "metadata": {},
          "output_type": "execute_result"
        }
      ],
      "source": [
        "file.write(\"Bugün maç var.\\n\")"
      ]
    },
    {
      "cell_type": "code",
      "execution_count": null,
      "metadata": {
        "id": "jhp9pCt2zctn"
      },
      "outputs": [],
      "source": [
        "file.close()"
      ]
    },
    {
      "cell_type": "code",
      "execution_count": null,
      "metadata": {
        "id": "H6Bb4JMIzctn"
      },
      "outputs": [],
      "source": [
        "file=open(\"knowledges.txt\",\"a\",encoding=\"utf-8\")"
      ]
    },
    {
      "cell_type": "code",
      "execution_count": null,
      "metadata": {
        "id": "BeVdKurHzcto",
        "outputId": "e1943981-a7f6-426f-a32a-d18f285bb35c"
      },
      "outputs": [
        {
          "data": {
            "text/plain": [
              "29"
            ]
          },
          "execution_count": 2,
          "metadata": {},
          "output_type": "execute_result"
        }
      ],
      "source": [
        "file.write(\"Bugün günlerden Galatasaray!\\n\")"
      ]
    },
    {
      "cell_type": "code",
      "execution_count": null,
      "metadata": {
        "id": "d4tyxhCBzcto"
      },
      "outputs": [],
      "source": [
        "file.close()"
      ]
    },
    {
      "cell_type": "code",
      "execution_count": null,
      "metadata": {
        "id": "oxZXFCmMzcto"
      },
      "outputs": [],
      "source": [
        "file=open(\"knowledges.txt\",\"r\",encoding=\"utf-8\")"
      ]
    },
    {
      "cell_type": "code",
      "execution_count": null,
      "metadata": {
        "id": "7mrA247yzcto"
      },
      "outputs": [],
      "source": [
        "for i in file:\n",
        "    print(i,end=\"\")"
      ]
    },
    {
      "cell_type": "code",
      "execution_count": null,
      "metadata": {
        "id": "chdwydeYzcto"
      },
      "outputs": [],
      "source": [
        "file.close()"
      ]
    },
    {
      "cell_type": "code",
      "execution_count": null,
      "metadata": {
        "id": "1EmmCZTIzcto"
      },
      "outputs": [],
      "source": [
        "file=open(\"knowledges.txt\",\"r\",encoding=\"utf-8\")"
      ]
    },
    {
      "cell_type": "code",
      "execution_count": null,
      "metadata": {
        "id": "By9sukB4zcto",
        "outputId": "821cbc14-2a59-41d9-c43d-5c0daa1ee60b"
      },
      "outputs": [
        {
          "name": "stdout",
          "output_type": "stream",
          "text": [
            "Mehmet Ali IŞIK\n",
            "Bugün maç var.\n",
            "Bugün günlerden Galatasaray!\n"
          ]
        }
      ],
      "source": [
        "for i in file:\n",
        "    print(i,end=\"\")\n",
        "file.close()"
      ]
    },
    {
      "cell_type": "code",
      "execution_count": null,
      "metadata": {
        "id": "hxyOpPuvzcto"
      },
      "outputs": [],
      "source": [
        "file=open(\"knowledges.txt\",\"r\",encoding=\"utf-8\")"
      ]
    },
    {
      "cell_type": "code",
      "execution_count": null,
      "metadata": {
        "id": "3nwXnImizcto"
      },
      "outputs": [],
      "source": [
        "content=file.read()"
      ]
    },
    {
      "cell_type": "code",
      "execution_count": null,
      "metadata": {
        "id": "p0-6_Tjbzcto",
        "outputId": "630b2104-51af-463e-cb7f-afd037f765ce"
      },
      "outputs": [
        {
          "name": "stdout",
          "output_type": "stream",
          "text": [
            "Mehmet Ali IŞIK\n",
            "Bugün maç var.\n",
            "Bugün günlerden Galatasaray!\n",
            "\n"
          ]
        }
      ],
      "source": [
        "print(content)\n",
        "file.close()"
      ]
    },
    {
      "cell_type": "code",
      "execution_count": null,
      "metadata": {
        "id": "mmIkfMtUzcto"
      },
      "outputs": [],
      "source": [
        "file=open(\"knowledges.txt\",\"r\",encoding=\"utf-8\")"
      ]
    },
    {
      "cell_type": "code",
      "execution_count": null,
      "metadata": {
        "id": "GmOoCJcYzcto",
        "outputId": "0647f0a9-174f-444d-c218-606347c6bed7"
      },
      "outputs": [
        {
          "name": "stdout",
          "output_type": "stream",
          "text": [
            "Mehmet Ali IŞIK\n",
            "Bugün maç var.\n",
            "Bugün günlerden Galatasaray!\n"
          ]
        }
      ],
      "source": [
        "print(file.readline(),end=\"\")\n",
        "print(file.readline(),end=\"\")\n",
        "print(file.readline(),end=\"\")\n",
        "print(file.readline(),end=\"\")"
      ]
    },
    {
      "cell_type": "markdown",
      "metadata": {
        "id": "kuAX5Eexzcto"
      },
      "source": [
        "* we write 4 readline but output was 3 because of there are 3 line in txt file"
      ]
    },
    {
      "cell_type": "code",
      "execution_count": null,
      "metadata": {
        "id": "Qz2y_nKKzcto"
      },
      "outputs": [],
      "source": [
        "file.close()"
      ]
    },
    {
      "cell_type": "code",
      "execution_count": null,
      "metadata": {
        "id": "6Wkhpj5czcto",
        "outputId": "a657c4dd-f470-4ff3-b504-fbfa61d4edc3"
      },
      "outputs": [
        {
          "name": "stdout",
          "output_type": "stream",
          "text": [
            "['Mehmet Ali IŞIK\\n', 'Bugün maç var.\\n', 'Bugün günlerden Galatasaray!\\n']\n"
          ]
        }
      ],
      "source": [
        "file=open(\"knowledges.txt\",\"r\",encoding=\"utf-8\")\n",
        "myList=file.readlines()\n",
        "print(myList)"
      ]
    },
    {
      "cell_type": "markdown",
      "metadata": {
        "id": "BRwK70p-zcto"
      },
      "source": [
        "* Fonksiyonlar"
      ]
    },
    {
      "cell_type": "markdown",
      "metadata": {
        "id": "6mAMxvD1zcto"
      },
      "source": [
        "* seek()\n",
        "tell()\n",
        "read()"
      ]
    },
    {
      "cell_type": "code",
      "execution_count": null,
      "metadata": {
        "id": "tZfvZN6_zcto",
        "outputId": "bbf89752-9890-4e6a-cf59-64d634db499b"
      },
      "outputs": [
        {
          "name": "stdout",
          "output_type": "stream",
          "text": [
            "0\n",
            "15\n"
          ]
        }
      ],
      "source": [
        "with open(\"knowledges.txt\",\"r\",encoding=\"utf-8\") as file:\n",
        "    print(file.tell())\n",
        "    file.seek(15)\n",
        "    print(file.tell())"
      ]
    },
    {
      "cell_type": "code",
      "execution_count": null,
      "metadata": {
        "id": "UxKdPV6czctp",
        "outputId": "a9585e71-c369-4fd7-ff76-4b1be087cb6c"
      },
      "outputs": [
        {
          "name": "stdout",
          "output_type": "stream",
          "text": [
            "0\n",
            "15\n",
            "K\n",
            "Bugün maç var.\n",
            "Bugün gü\n"
          ]
        }
      ],
      "source": [
        "with open(\"knowledges.txt\",\"r\",encoding=\"utf-8\") as file:\n",
        "    print(file.tell())\n",
        "    file.seek(15)\n",
        "    print(file.tell())\n",
        "    print(file.read(25))"
      ]
    },
    {
      "cell_type": "markdown",
      "metadata": {
        "id": "1Okke74nzctp"
      },
      "source": [
        "* Seek() seeks the document"
      ]
    },
    {
      "cell_type": "markdown",
      "metadata": {
        "id": "UbI6TA7yzctp"
      },
      "source": [
        "* Tell() tell where position of document"
      ]
    },
    {
      "cell_type": "code",
      "execution_count": null,
      "metadata": {
        "id": "EQFEqDQqzctp"
      },
      "outputs": [],
      "source": [
        "with open(\"players.txt\",\"w\",encoding=\"utf-8\") as file:\n",
        "    file.close()"
      ]
    },
    {
      "cell_type": "markdown",
      "metadata": {
        "id": "9h_RxO90zctp"
      },
      "source": [
        "# Buried Functions"
      ]
    },
    {
      "cell_type": "markdown",
      "metadata": {
        "id": "DB1SR3aozctp"
      },
      "source": [
        "**map func**"
      ]
    },
    {
      "cell_type": "markdown",
      "metadata": {
        "id": "C4CDnlgozctp"
      },
      "source": [
        "map(func,list or tuple)"
      ]
    },
    {
      "cell_type": "code",
      "execution_count": null,
      "metadata": {
        "id": "oB0QQbhtzctp"
      },
      "outputs": [],
      "source": [
        "def double(x):\n",
        "    return x*2"
      ]
    },
    {
      "cell_type": "code",
      "execution_count": null,
      "metadata": {
        "id": "q_hemvY7zctp",
        "outputId": "096e6065-cfdc-48f5-a15b-fec91e925678"
      },
      "outputs": [
        {
          "data": {
            "text/plain": [
              "<map at 0x26e63671948>"
            ]
          },
          "execution_count": 2,
          "metadata": {},
          "output_type": "execute_result"
        }
      ],
      "source": [
        "map(double, [1,2,3,4,5,6])"
      ]
    },
    {
      "cell_type": "markdown",
      "metadata": {
        "id": "gi9PNCLzzctp"
      },
      "source": [
        "It walks in the list term by term and uses double func."
      ]
    },
    {
      "cell_type": "code",
      "execution_count": null,
      "metadata": {
        "id": "-kHU_C0szctp",
        "outputId": "71a41087-3d01-4540-f9a2-26179c4c24ae"
      },
      "outputs": [
        {
          "data": {
            "text/plain": [
              "[2, 4, 6, 8, 10, 12]"
            ]
          },
          "execution_count": 3,
          "metadata": {},
          "output_type": "execute_result"
        }
      ],
      "source": [
        "list(map(double, [1,2,3,4,5,6]))"
      ]
    },
    {
      "cell_type": "code",
      "execution_count": null,
      "metadata": {
        "id": "2pqmrSclzctp",
        "outputId": "1d9ab694-b36b-4610-ca4c-abbdd29e1564"
      },
      "outputs": [
        {
          "data": {
            "text/plain": [
              "[2, 4, 6, 8, 10, 12]"
            ]
          },
          "execution_count": 4,
          "metadata": {},
          "output_type": "execute_result"
        }
      ],
      "source": [
        "list(map(lambda x : x * 2, [1,2,3,4,5,6]))"
      ]
    },
    {
      "cell_type": "markdown",
      "metadata": {
        "id": "xQDPIODVzctp"
      },
      "source": [
        "**reduce func**"
      ]
    },
    {
      "cell_type": "markdown",
      "metadata": {
        "id": "o_qQVmkKzctp"
      },
      "source": [
        "reduce(func,list or tuple)"
      ]
    },
    {
      "cell_type": "code",
      "execution_count": null,
      "metadata": {
        "id": "xmdNB7xbzctp"
      },
      "outputs": [],
      "source": [
        "def maximum(x,y):\n",
        "    if(x>y):\n",
        "        return x\n",
        "    else:\n",
        "        return y"
      ]
    },
    {
      "cell_type": "code",
      "execution_count": null,
      "metadata": {
        "id": "3SfV8U5kzctp"
      },
      "outputs": [],
      "source": [
        "from functools import reduce"
      ]
    },
    {
      "cell_type": "code",
      "execution_count": null,
      "metadata": {
        "id": "5l8gxAUMzctp",
        "outputId": "0d22f5e6-5d9a-42b5-e93d-b57e4e2fe9a6"
      },
      "outputs": [
        {
          "data": {
            "text/plain": [
              "78"
            ]
          },
          "execution_count": 4,
          "metadata": {},
          "output_type": "execute_result"
        }
      ],
      "source": [
        "reduce(maximum,[5,9,1,78,6,-4,15])"
      ]
    },
    {
      "cell_type": "markdown",
      "metadata": {
        "id": "j-NhqCJezctp"
      },
      "source": [
        "It first compare first two elements of the list then goes one by one"
      ]
    },
    {
      "cell_type": "markdown",
      "metadata": {
        "id": "5LOjbgFAzctp"
      },
      "source": [
        "**filter func**"
      ]
    },
    {
      "cell_type": "markdown",
      "metadata": {
        "id": "4YAfkkX2zctp"
      },
      "source": [
        "filter(func, list or tuple) --> func has to be boolean func and filter func output is just true ones"
      ]
    },
    {
      "cell_type": "code",
      "execution_count": null,
      "metadata": {
        "id": "lcC5q09Ozctq",
        "outputId": "f15d2ecd-93fd-4025-f425-385358134161"
      },
      "outputs": [
        {
          "data": {
            "text/plain": [
              "[2, 4, 6]"
            ]
          },
          "execution_count": 1,
          "metadata": {},
          "output_type": "execute_result"
        }
      ],
      "source": [
        "list(filter(lambda x: x%2==0, [1,2,3,4,5,6,7,]))"
      ]
    },
    {
      "cell_type": "markdown",
      "metadata": {
        "id": "ZtSYEdUKzctq"
      },
      "source": [
        "as we see it just returned even numbers"
      ]
    },
    {
      "cell_type": "code",
      "execution_count": null,
      "metadata": {
        "id": "vUNS_eEgzctq"
      },
      "outputs": [],
      "source": [
        "def prime(x):\n",
        "    i=2\n",
        "    count=0\n",
        "    if(x==1):\n",
        "        return False\n",
        "    elif(x==2):\n",
        "        return True\n",
        "    else:\n",
        "        while(x>i):\n",
        "            if(x%i==0):\n",
        "                return False\n",
        "            i+=1\n",
        "        return True"
      ]
    },
    {
      "cell_type": "code",
      "execution_count": null,
      "metadata": {
        "id": "RCcNDVinzctq",
        "outputId": "016e4ae5-660c-4174-d790-cd353906b731"
      },
      "outputs": [
        {
          "data": {
            "text/plain": [
              "[2, 3, 5, 7]"
            ]
          },
          "execution_count": 5,
          "metadata": {},
          "output_type": "execute_result"
        }
      ],
      "source": [
        "list(filter(prime, [1,2,3,4,5,6,7,]))"
      ]
    },
    {
      "cell_type": "markdown",
      "metadata": {
        "id": "v4NHcfgozctq"
      },
      "source": [
        "**zip func**"
      ]
    },
    {
      "cell_type": "markdown",
      "metadata": {
        "id": "wdP0bOyCzctq"
      },
      "source": [
        "if u wanna connect to list's items in a tuple"
      ]
    },
    {
      "cell_type": "markdown",
      "metadata": {
        "id": "zbXraUM5zctq"
      },
      "source": [
        "zip(list1,list2)"
      ]
    },
    {
      "cell_type": "code",
      "execution_count": null,
      "metadata": {
        "id": "D52XSw_1zctq",
        "outputId": "6324298f-c86f-4775-a890-5a8df10d4741"
      },
      "outputs": [
        {
          "data": {
            "text/plain": [
              "<zip at 0x233d1678848>"
            ]
          },
          "execution_count": 6,
          "metadata": {},
          "output_type": "execute_result"
        }
      ],
      "source": [
        "list1=[1,2,3,4]\n",
        "list2=[\"one\",\"two\",\"three\",\"four\"]\n",
        "zip(list1,list2)"
      ]
    },
    {
      "cell_type": "code",
      "execution_count": null,
      "metadata": {
        "id": "LSpbE8mozctq",
        "outputId": "ec215268-a82f-44c3-ceff-0000fe0e8cf5"
      },
      "outputs": [
        {
          "data": {
            "text/plain": [
              "[(1, 'one'), (2, 'two'), (3, 'three'), (4, 'four')]"
            ]
          },
          "execution_count": 7,
          "metadata": {},
          "output_type": "execute_result"
        }
      ],
      "source": [
        "list(zip(list1,list2))"
      ]
    },
    {
      "cell_type": "code",
      "execution_count": null,
      "metadata": {
        "id": "iIxqAoduzctq",
        "outputId": "0b413309-123a-4b1f-cd43-57b84e88a75a"
      },
      "outputs": [
        {
          "name": "stdout",
          "output_type": "stream",
          "text": [
            "1 one\n",
            "2 two\n",
            "3 three\n",
            "4 four\n"
          ]
        }
      ],
      "source": [
        "for i,j in zip(list1,list2):\n",
        "    print(i,j)"
      ]
    },
    {
      "cell_type": "markdown",
      "metadata": {
        "id": "pRWQnvdyzctq"
      },
      "source": [
        "**enumerate func**"
      ]
    },
    {
      "cell_type": "code",
      "execution_count": null,
      "metadata": {
        "id": "yBbIvyojzctq"
      },
      "outputs": [],
      "source": [
        "liste=[\"Appel\",\"Orange\",\"Cherry\",\"Pear\"]"
      ]
    },
    {
      "cell_type": "code",
      "execution_count": null,
      "metadata": {
        "id": "79e43gyZzctq",
        "outputId": "6b01f113-9ee0-4a65-c897-b3559e48c177"
      },
      "outputs": [
        {
          "name": "stdout",
          "output_type": "stream",
          "text": [
            "[(0, 'Appel'), (1, 'Orange'), (2, 'Cherry'), (3, 'Pear')]\n"
          ]
        }
      ],
      "source": [
        "res=list()\n",
        "i=0\n",
        "while(i<len(liste)):\n",
        "    res.append((i,liste[i]))\n",
        "    i+=1\n",
        "print(res)"
      ]
    },
    {
      "cell_type": "code",
      "execution_count": null,
      "metadata": {
        "id": "hpr2gWfYzctq",
        "outputId": "c25c4ce3-9df4-438b-a91e-16e0d0cd6827"
      },
      "outputs": [
        {
          "data": {
            "text/plain": [
              "[(0, 'Appel'), (1, 'Orange'), (2, 'Cherry'), (3, 'Pear')]"
            ]
          },
          "execution_count": 5,
          "metadata": {},
          "output_type": "execute_result"
        }
      ],
      "source": [
        "list(enumerate(liste))"
      ]
    },
    {
      "cell_type": "markdown",
      "metadata": {
        "id": "EsVHObzczctq"
      },
      "source": [
        "**all and any func**"
      ]
    },
    {
      "cell_type": "markdown",
      "metadata": {
        "id": "GBoY-Zlxzctr"
      },
      "source": [
        "if all terms are true then all func returns True else it returns false"
      ]
    },
    {
      "cell_type": "markdown",
      "metadata": {
        "id": "yAx84fc3zctr"
      },
      "source": [
        "any func is opposite of all func if all terms are false it returns False else it returns True"
      ]
    },
    {
      "cell_type": "code",
      "execution_count": null,
      "metadata": {
        "id": "2Vgd8fcSzctr",
        "outputId": "746ba82c-85df-42a1-b986-19bd5f617a5a"
      },
      "outputs": [
        {
          "data": {
            "text/plain": [
              "False"
            ]
          },
          "execution_count": 2,
          "metadata": {},
          "output_type": "execute_result"
        }
      ],
      "source": [
        "all([1,0,1,1,0])"
      ]
    },
    {
      "cell_type": "code",
      "execution_count": null,
      "metadata": {
        "id": "6VGewt13zctr",
        "outputId": "7df7584c-fa38-470a-e4fc-2418ebdd2616"
      },
      "outputs": [
        {
          "data": {
            "text/plain": [
              "True"
            ]
          },
          "execution_count": 3,
          "metadata": {},
          "output_type": "execute_result"
        }
      ],
      "source": [
        "all([1,1,1,1,1])"
      ]
    },
    {
      "cell_type": "code",
      "execution_count": null,
      "metadata": {
        "id": "ujovXt0Jzctr",
        "outputId": "73813fe1-2800-4699-ef10-61ffb82ee173"
      },
      "outputs": [
        {
          "data": {
            "text/plain": [
              "True"
            ]
          },
          "execution_count": 4,
          "metadata": {},
          "output_type": "execute_result"
        }
      ],
      "source": [
        "any([1,0,1,1,0])"
      ]
    },
    {
      "cell_type": "code",
      "execution_count": null,
      "metadata": {
        "id": "H-HneBMzzctr",
        "outputId": "1558ef47-e2a2-4e51-ebc7-200f1def6d14"
      },
      "outputs": [
        {
          "data": {
            "text/plain": [
              "False"
            ]
          },
          "execution_count": 5,
          "metadata": {},
          "output_type": "execute_result"
        }
      ],
      "source": [
        "any([0,0,0,0,0])"
      ]
    },
    {
      "cell_type": "markdown",
      "metadata": {
        "id": "a2Jr1Hmezctr"
      },
      "source": [
        "# Advanced Numbers"
      ]
    },
    {
      "cell_type": "markdown",
      "metadata": {
        "id": "fxjq6Y7Jzctr"
      },
      "source": [
        "**hex() and bin()** func use for hexadecimal and binary forms"
      ]
    },
    {
      "cell_type": "code",
      "execution_count": null,
      "metadata": {
        "id": "hn3oP1SAzctr",
        "outputId": "a0a18493-6b9f-4061-922a-14b2a0fd2d32"
      },
      "outputs": [
        {
          "data": {
            "text/plain": [
              "'0x2d'"
            ]
          },
          "execution_count": 1,
          "metadata": {},
          "output_type": "execute_result"
        }
      ],
      "source": [
        "hex(45)"
      ]
    },
    {
      "cell_type": "code",
      "execution_count": null,
      "metadata": {
        "id": "w4aDhyr9zctr",
        "outputId": "d4388121-5987-4be8-813c-90a66bdd087d"
      },
      "outputs": [
        {
          "data": {
            "text/plain": [
              "'0b1111'"
            ]
          },
          "execution_count": 2,
          "metadata": {},
          "output_type": "execute_result"
        }
      ],
      "source": [
        "bin(15)"
      ]
    },
    {
      "cell_type": "markdown",
      "metadata": {
        "id": "YyO4VfG-zctr"
      },
      "source": [
        "* 0b is mark of binary num and 0x is also for hexadecimal"
      ]
    },
    {
      "cell_type": "markdown",
      "metadata": {
        "id": "t4TqysP2zctr"
      },
      "source": [
        "# Functions"
      ]
    },
    {
      "cell_type": "markdown",
      "metadata": {
        "id": "GAweKd8azctr"
      },
      "source": [
        "* abs() is for absolute value"
      ]
    },
    {
      "cell_type": "code",
      "execution_count": null,
      "metadata": {
        "id": "7bRfxp4tzctr",
        "outputId": "bb158670-eb7d-4066-c548-87930110f1ba"
      },
      "outputs": [
        {
          "data": {
            "text/plain": [
              "25"
            ]
          },
          "execution_count": 3,
          "metadata": {},
          "output_type": "execute_result"
        }
      ],
      "source": [
        "abs(-25)"
      ]
    },
    {
      "cell_type": "markdown",
      "metadata": {
        "id": "gVknJKTnzctr"
      },
      "source": [
        "* round is for round the number to closest number"
      ]
    },
    {
      "cell_type": "code",
      "execution_count": null,
      "metadata": {
        "id": "WqxLnlU8zctr",
        "outputId": "049b932a-f352-4f28-d101-0182f214842a"
      },
      "outputs": [
        {
          "data": {
            "text/plain": [
              "4"
            ]
          },
          "execution_count": 4,
          "metadata": {},
          "output_type": "execute_result"
        }
      ],
      "source": [
        "round(3.8)"
      ]
    },
    {
      "cell_type": "code",
      "execution_count": null,
      "metadata": {
        "id": "Ovma36gszctr",
        "outputId": "4cb63136-a48f-405f-d73b-eb3ddf5ddf0c"
      },
      "outputs": [
        {
          "data": {
            "text/plain": [
              "5.547"
            ]
          },
          "execution_count": 5,
          "metadata": {},
          "output_type": "execute_result"
        }
      ],
      "source": [
        "round(5.546845486486,3)"
      ]
    },
    {
      "cell_type": "markdown",
      "metadata": {
        "id": "soIqEEpYzctr"
      },
      "source": [
        "* max() and min() func use for finding maximum and minimum number"
      ]
    },
    {
      "cell_type": "code",
      "execution_count": null,
      "metadata": {
        "id": "PCMlCnoxzctr",
        "outputId": "55698dcc-3d3b-41b7-9c96-ef493b5d3718"
      },
      "outputs": [
        {
          "data": {
            "text/plain": [
              "7"
            ]
          },
          "execution_count": 6,
          "metadata": {},
          "output_type": "execute_result"
        }
      ],
      "source": [
        "max(2,5,7,6,4,1)"
      ]
    },
    {
      "cell_type": "code",
      "execution_count": null,
      "metadata": {
        "id": "LxbuGeVIzctr",
        "outputId": "a94673ec-5c11-4e63-e80e-f75d8acb326d"
      },
      "outputs": [
        {
          "data": {
            "text/plain": [
              "1"
            ]
          },
          "execution_count": 7,
          "metadata": {},
          "output_type": "execute_result"
        }
      ],
      "source": [
        "min(2,5,7,6,4,1)"
      ]
    },
    {
      "cell_type": "markdown",
      "metadata": {
        "id": "J307Lf4Vzcts"
      },
      "source": [
        "* sum() func sums the numbers in a list or tuple"
      ]
    },
    {
      "cell_type": "code",
      "execution_count": null,
      "metadata": {
        "id": "8as0pM5mzcts",
        "outputId": "b0619b0b-70cc-41ca-aad0-b047801d057b"
      },
      "outputs": [
        {
          "ename": "TypeError",
          "evalue": "'int' object is not iterable",
          "output_type": "error",
          "traceback": [
            "\u001b[1;31m---------------------------------------------------------------------------\u001b[0m",
            "\u001b[1;31mTypeError\u001b[0m                                 Traceback (most recent call last)",
            "\u001b[1;32m<ipython-input-8-fc649a2f0a8a>\u001b[0m in \u001b[0;36m<module>\u001b[1;34m\u001b[0m\n\u001b[1;32m----> 1\u001b[1;33m \u001b[0msum\u001b[0m\u001b[1;33m(\u001b[0m\u001b[1;36m3\u001b[0m\u001b[1;33m,\u001b[0m\u001b[1;36m5\u001b[0m\u001b[1;33m)\u001b[0m\u001b[1;33m\u001b[0m\u001b[1;33m\u001b[0m\u001b[0m\n\u001b[0m",
            "\u001b[1;31mTypeError\u001b[0m: 'int' object is not iterable"
          ]
        }
      ],
      "source": [
        "sum(3,5)"
      ]
    },
    {
      "cell_type": "code",
      "execution_count": null,
      "metadata": {
        "id": "deLxGOPTzcts",
        "outputId": "583357ad-9973-4dc1-bd6d-0c8f22bd7656"
      },
      "outputs": [
        {
          "data": {
            "text/plain": [
              "8"
            ]
          },
          "execution_count": 9,
          "metadata": {},
          "output_type": "execute_result"
        }
      ],
      "source": [
        "sum([3,5])"
      ]
    },
    {
      "cell_type": "markdown",
      "metadata": {
        "id": "MoHSm_x3zcts"
      },
      "source": [
        "* pow(x,y) func is same as x**y"
      ]
    },
    {
      "cell_type": "code",
      "execution_count": null,
      "metadata": {
        "id": "618Ex-9Gzcts",
        "outputId": "8c47fdd4-ecab-4137-e32d-1ea8945ce7b2"
      },
      "outputs": [
        {
          "data": {
            "text/plain": [
              "1024"
            ]
          },
          "execution_count": 10,
          "metadata": {},
          "output_type": "execute_result"
        }
      ],
      "source": [
        "pow(4,5)"
      ]
    },
    {
      "cell_type": "code",
      "execution_count": null,
      "metadata": {
        "id": "utqa8wlezcts",
        "outputId": "0635418e-563c-4f86-cc95-1f4091c62914"
      },
      "outputs": [
        {
          "data": {
            "text/plain": [
              "1024"
            ]
          },
          "execution_count": 11,
          "metadata": {},
          "output_type": "execute_result"
        }
      ],
      "source": [
        "4**5"
      ]
    },
    {
      "cell_type": "markdown",
      "metadata": {
        "id": "UTux-8Uezcts"
      },
      "source": [
        "## Advanced Character Series for Strings"
      ]
    },
    {
      "cell_type": "markdown",
      "metadata": {
        "id": "UFbipJC5zcts"
      },
      "source": [
        "https://www.tutorialspoint.com/python3/python_strings.htm"
      ]
    },
    {
      "cell_type": "markdown",
      "metadata": {
        "id": "QmllJm-9zcts"
      },
      "source": [
        "* upper and lower func use for upper and lower case for all letters in a word or a sentence"
      ]
    },
    {
      "cell_type": "markdown",
      "metadata": {
        "id": "kpAI6CA2zcts"
      },
      "source": [
        "**replace(x,y)** change all letter x to letter y"
      ]
    },
    {
      "cell_type": "code",
      "execution_count": null,
      "metadata": {
        "id": "8j5iFKrNzcts",
        "outputId": "b08902bf-d26c-4534-e1cf-ee7c3c761c38"
      },
      "outputs": [
        {
          "name": "stdout",
          "output_type": "stream",
          "text": [
            "Ali oto bok\n"
          ]
        }
      ],
      "source": [
        "stri=\"Ali ata bak\"\n",
        "print(stri.replace(\"a\",\"o\"))"
      ]
    },
    {
      "cell_type": "markdown",
      "metadata": {
        "id": "PqkKZh39zcts"
      },
      "source": [
        "* bc of A is upper case it didnt change it to letter o"
      ]
    },
    {
      "cell_type": "markdown",
      "metadata": {
        "id": "_VhgyFbkzcts"
      },
      "source": [
        "**startswith(x)** if word starts with  x  it returns True , false o.w"
      ]
    },
    {
      "cell_type": "markdown",
      "metadata": {
        "id": "LJz1Y7MMzcts"
      },
      "source": [
        "**endswith(x)** if word ends with  x  it returns True , false o.w"
      ]
    },
    {
      "cell_type": "markdown",
      "metadata": {
        "id": "OTu5NGabzcts"
      },
      "source": [
        "**split()** it aparts sentence to a list about what is inside the split func"
      ]
    },
    {
      "cell_type": "code",
      "execution_count": null,
      "metadata": {
        "id": "NqXIk4bWzcts",
        "outputId": "3aa24586-9af3-4456-ac6f-7369c9b62f78"
      },
      "outputs": [
        {
          "data": {
            "text/plain": [
              "['Ali', 'ata', 'bak']"
            ]
          },
          "execution_count": 17,
          "metadata": {},
          "output_type": "execute_result"
        }
      ],
      "source": [
        "\"Ali ata bak\".split(\" \")"
      ]
    },
    {
      "cell_type": "markdown",
      "metadata": {
        "id": "h4MUEunezcts"
      },
      "source": [
        "## strip(), lstrip(), rstrip()"
      ]
    },
    {
      "cell_type": "markdown",
      "metadata": {
        "id": "HFO9XhYkzcts"
      },
      "source": [
        "**strip(x)**: It deletes all x in the end and at the begining"
      ]
    },
    {
      "cell_type": "markdown",
      "metadata": {
        "id": "i6LIuZchzcts"
      },
      "source": [
        "**lstrip(x)**: It deletes all x  at the begining"
      ]
    },
    {
      "cell_type": "markdown",
      "metadata": {
        "id": "WoTODdJuzcts"
      },
      "source": [
        "**rstrip(x)**: It deletes all x  at the end"
      ]
    },
    {
      "cell_type": "code",
      "execution_count": null,
      "metadata": {
        "id": "h4BAOnVCzcts",
        "outputId": "e65f67f0-ce67-48d8-fce7-5d28798eef33"
      },
      "outputs": [
        {
          "data": {
            "text/plain": [
              "'ali'"
            ]
          },
          "execution_count": 4,
          "metadata": {},
          "output_type": "execute_result"
        }
      ],
      "source": [
        "\"<<<<<<<<<<<<<<<<<ali<<<<<\".strip(\"<\")"
      ]
    },
    {
      "cell_type": "code",
      "execution_count": null,
      "metadata": {
        "id": "3ysnopySzcts",
        "outputId": "d742e6c7-54b9-4436-a0aa-78ec2f72900e"
      },
      "outputs": [
        {
          "data": {
            "text/plain": [
              "'ali<<<<<'"
            ]
          },
          "execution_count": 5,
          "metadata": {},
          "output_type": "execute_result"
        }
      ],
      "source": [
        "\"<<<<<<<<<<<<<<<<<ali<<<<<\".lstrip(\"<\")"
      ]
    },
    {
      "cell_type": "code",
      "execution_count": null,
      "metadata": {
        "id": "hhUcvJdhzcts",
        "outputId": "ea4e856c-db2f-4ecb-ee5c-99695f6c33a8"
      },
      "outputs": [
        {
          "data": {
            "text/plain": [
              "'<<<<<<<<<<<<<<<<<ali'"
            ]
          },
          "execution_count": 6,
          "metadata": {},
          "output_type": "execute_result"
        }
      ],
      "source": [
        "\"<<<<<<<<<<<<<<<<<ali<<<<<\".rstrip(\"<\")"
      ]
    },
    {
      "cell_type": "markdown",
      "metadata": {
        "id": "52i2vza-zctt"
      },
      "source": [
        "#### join()"
      ]
    },
    {
      "cell_type": "code",
      "execution_count": null,
      "metadata": {
        "id": "71-HA7n4zctt",
        "outputId": "139ecfc3-8a04-4207-a914-43086a016fe1"
      },
      "outputs": [
        {
          "data": {
            "text/plain": [
              "'13.13.2013'"
            ]
          },
          "execution_count": 8,
          "metadata": {},
          "output_type": "execute_result"
        }
      ],
      "source": [
        "liste=[\"13\",\"13\",\"2013\"]\n",
        "\".\".join(liste)"
      ]
    },
    {
      "cell_type": "markdown",
      "metadata": {
        "id": "qPhFJF8_zctt"
      },
      "source": [
        "it connects list terms with whatever you want"
      ]
    },
    {
      "cell_type": "markdown",
      "metadata": {
        "id": "6BfnCX5Vzctt"
      },
      "source": [
        "### find() and rfind()"
      ]
    },
    {
      "cell_type": "markdown",
      "metadata": {
        "id": "SY-Hh9eWzctt"
      },
      "source": [
        "**find(x)** if find any x from begining it returns first one's place else it returns -1"
      ]
    },
    {
      "cell_type": "markdown",
      "metadata": {
        "id": "gU2XS9wnzctt"
      },
      "source": [
        "**rfind(x)** if find any x from the end it returns first one's place else it returns -1"
      ]
    },
    {
      "cell_type": "code",
      "execution_count": null,
      "metadata": {
        "id": "eGAcs7KIzctt",
        "outputId": "7620588c-cf53-49c2-da9b-f90c65ec34dc"
      },
      "outputs": [
        {
          "data": {
            "text/plain": [
              "1"
            ]
          },
          "execution_count": 9,
          "metadata": {},
          "output_type": "execute_result"
        }
      ],
      "source": [
        "\"caramel\".find(\"a\")"
      ]
    },
    {
      "cell_type": "code",
      "execution_count": null,
      "metadata": {
        "id": "xbq4SsJWzctt",
        "outputId": "9a2bce5f-2b0e-4212-c551-efa603889b01"
      },
      "outputs": [
        {
          "data": {
            "text/plain": [
              "3"
            ]
          },
          "execution_count": 10,
          "metadata": {},
          "output_type": "execute_result"
        }
      ],
      "source": [
        "\"caramel\".rfind(\"a\")"
      ]
    },
    {
      "cell_type": "code",
      "execution_count": null,
      "metadata": {
        "id": "dkvim1Gxzctt",
        "outputId": "0b1c620c-81c7-481e-f587-d4909578dd44"
      },
      "outputs": [
        {
          "data": {
            "text/plain": [
              "-1"
            ]
          },
          "execution_count": 11,
          "metadata": {},
          "output_type": "execute_result"
        }
      ],
      "source": [
        "\"caramel\".find(\"t\")"
      ]
    },
    {
      "cell_type": "markdown",
      "metadata": {
        "id": "BT5zS11kzctt"
      },
      "source": [
        "# Sets"
      ]
    },
    {
      "cell_type": "code",
      "execution_count": null,
      "metadata": {
        "id": "IDnHs6wRzctt"
      },
      "outputs": [],
      "source": [
        "set1={1,2,3,4,5,6,7} ##it's syntax"
      ]
    },
    {
      "cell_type": "code",
      "execution_count": null,
      "metadata": {
        "id": "gu7Jfoaczctt",
        "outputId": "3b411c24-5d52-461b-c587-a354082647e1"
      },
      "outputs": [
        {
          "name": "stdout",
          "output_type": "stream",
          "text": [
            "{1, 2, 3, 4, 5, 7, 12}\n"
          ]
        }
      ],
      "source": [
        "list1=[12,1,2,4,1,2,3,4,5,7]\n",
        "set1=set(list1)\n",
        "print(set1)"
      ]
    },
    {
      "cell_type": "markdown",
      "metadata": {
        "id": "y2U6Slymzctt"
      },
      "source": [
        "it add all terms just one time and it sorts terms"
      ]
    },
    {
      "cell_type": "code",
      "execution_count": null,
      "metadata": {
        "id": "3EflmDjvzctt",
        "outputId": "f834f350-38e0-4837-9b39-4beec382710a"
      },
      "outputs": [
        {
          "name": "stdout",
          "output_type": "stream",
          "text": [
            "1\n",
            "2\n",
            "3\n",
            "4\n",
            "5\n",
            "7\n",
            "12\n"
          ]
        }
      ],
      "source": [
        "for i in set1:\n",
        "    print(i)"
      ]
    },
    {
      "cell_type": "code",
      "execution_count": null,
      "metadata": {
        "id": "04bidnL3zctt",
        "outputId": "b65f3cc8-879f-4d4d-dbf6-61620251fc59"
      },
      "outputs": [
        {
          "ename": "TypeError",
          "evalue": "'set' object is not subscriptable",
          "output_type": "error",
          "traceback": [
            "\u001b[1;31m---------------------------------------------------------------------------\u001b[0m",
            "\u001b[1;31mTypeError\u001b[0m                                 Traceback (most recent call last)",
            "\u001b[1;32m<ipython-input-15-d27c0eee2e56>\u001b[0m in \u001b[0;36m<module>\u001b[1;34m\u001b[0m\n\u001b[1;32m----> 1\u001b[1;33m \u001b[0mset1\u001b[0m\u001b[1;33m[\u001b[0m\u001b[1;36m1\u001b[0m\u001b[1;33m]\u001b[0m\u001b[1;33m\u001b[0m\u001b[1;33m\u001b[0m\u001b[0m\n\u001b[0m",
            "\u001b[1;31mTypeError\u001b[0m: 'set' object is not subscriptable"
          ]
        }
      ],
      "source": [
        "set1[1]"
      ]
    },
    {
      "cell_type": "markdown",
      "metadata": {
        "id": "ynE0ftDvzctt"
      },
      "source": [
        "* as wee see in the 14 and 15 cells we can print terms with for but we cannot call each cells seperately"
      ]
    },
    {
      "cell_type": "markdown",
      "metadata": {
        "id": "9JeRMJHSzctt"
      },
      "source": [
        "* but if we want we can change the type of set to the list the we can use that way"
      ]
    },
    {
      "cell_type": "markdown",
      "metadata": {
        "id": "4bXtn4tRzctt"
      },
      "source": [
        "**add func**"
      ]
    },
    {
      "cell_type": "code",
      "execution_count": null,
      "metadata": {
        "id": "gNz-fkKZzctt",
        "outputId": "1b2810e7-714f-4012-cc2b-b00e4971d21f"
      },
      "outputs": [
        {
          "data": {
            "text/plain": [
              "{1, 2, 3, 4, 5, 7, 8, 12}"
            ]
          },
          "execution_count": 16,
          "metadata": {},
          "output_type": "execute_result"
        }
      ],
      "source": [
        "set1.add(8)\n",
        "set1"
      ]
    },
    {
      "cell_type": "markdown",
      "metadata": {
        "id": "kMbzshiszctt"
      },
      "source": [
        "**difference func**"
      ]
    },
    {
      "cell_type": "code",
      "execution_count": null,
      "metadata": {
        "id": "9QTCUpXPzctt",
        "outputId": "be34e92e-423f-4bc5-f280-9f5569828d46"
      },
      "outputs": [
        {
          "name": "stdout",
          "output_type": "stream",
          "text": [
            "{1, 2, 3, 5, 6, 7}\n"
          ]
        }
      ],
      "source": [
        "set1={1, 2, 3, 4, 5, 7, 8, 12}\n",
        "set2={5,6,7,1,2,3}\n",
        "print(set2)"
      ]
    },
    {
      "cell_type": "code",
      "execution_count": null,
      "metadata": {
        "id": "DEpUdVW1zctt",
        "outputId": "db449f0b-e791-4db4-9d54-a2a50a358e01"
      },
      "outputs": [
        {
          "data": {
            "text/plain": [
              "{4, 8, 12}"
            ]
          },
          "execution_count": 4,
          "metadata": {},
          "output_type": "execute_result"
        }
      ],
      "source": [
        "set1.difference(set2)"
      ]
    },
    {
      "cell_type": "markdown",
      "metadata": {
        "id": "sDBLTPfMzctu"
      },
      "source": [
        "**difference_update()**"
      ]
    },
    {
      "cell_type": "code",
      "execution_count": null,
      "metadata": {
        "id": "MWi-gFAjzctu"
      },
      "outputs": [],
      "source": [
        "set1.difference_update(set2)"
      ]
    },
    {
      "cell_type": "code",
      "execution_count": null,
      "metadata": {
        "id": "XfQ5aaLJzctu",
        "outputId": "eb2e9769-706d-4b51-a641-0b89d89d4d8c"
      },
      "outputs": [
        {
          "data": {
            "text/plain": [
              "{4, 8, 12}"
            ]
          },
          "execution_count": 6,
          "metadata": {},
          "output_type": "execute_result"
        }
      ],
      "source": [
        "set1"
      ]
    },
    {
      "cell_type": "markdown",
      "metadata": {
        "id": "TP3_tlrfzctu"
      },
      "source": [
        "* it changed the set 2 to difference of set2"
      ]
    },
    {
      "cell_type": "markdown",
      "metadata": {
        "id": "L19NmZt-zctu"
      },
      "source": [
        "**discard()**"
      ]
    },
    {
      "cell_type": "code",
      "execution_count": null,
      "metadata": {
        "id": "cnX84L-azctu",
        "outputId": "d6b7ffb6-46ad-4032-8b2d-9a8bcdac0d20"
      },
      "outputs": [
        {
          "data": {
            "text/plain": [
              "{4, 12}"
            ]
          },
          "execution_count": 7,
          "metadata": {},
          "output_type": "execute_result"
        }
      ],
      "source": [
        "set1.discard(8)\n",
        "set1"
      ]
    },
    {
      "cell_type": "code",
      "execution_count": null,
      "metadata": {
        "id": "QTWRM-J8zctu",
        "outputId": "0e46e90c-6999-49a3-a92c-82174d790f37"
      },
      "outputs": [
        {
          "data": {
            "text/plain": [
              "{4, 12}"
            ]
          },
          "execution_count": 8,
          "metadata": {},
          "output_type": "execute_result"
        }
      ],
      "source": [
        "set1.discard(100)\n",
        "set1"
      ]
    },
    {
      "cell_type": "markdown",
      "metadata": {
        "id": "U5pIORobzctu"
      },
      "source": [
        "* it removes terms from the set"
      ]
    },
    {
      "cell_type": "markdown",
      "metadata": {
        "id": "I_j-dD3fzctu"
      },
      "source": [
        "**intersection()**"
      ]
    },
    {
      "cell_type": "code",
      "execution_count": null,
      "metadata": {
        "id": "KiN-a1jozctu",
        "outputId": "ce0c7644-2b3d-4265-ba03-af154982c496"
      },
      "outputs": [
        {
          "data": {
            "text/plain": [
              "{1, 2, 3, 5, 7}"
            ]
          },
          "execution_count": 9,
          "metadata": {},
          "output_type": "execute_result"
        }
      ],
      "source": [
        "set1={1, 2, 3, 4, 5, 7, 8, 12}\n",
        "set1.intersection(set2)"
      ]
    },
    {
      "cell_type": "markdown",
      "metadata": {
        "id": "kwavtWGHzctu"
      },
      "source": [
        "**intersection_update()** same as difference update but in intersection way"
      ]
    },
    {
      "cell_type": "markdown",
      "metadata": {
        "id": "0WevHYaYzctu"
      },
      "source": [
        "**isdisjoint()**"
      ]
    },
    {
      "cell_type": "markdown",
      "metadata": {
        "id": "llN0rZB6zctu"
      },
      "source": [
        "* if intersection set of two set is empty it returns True, False ow"
      ]
    },
    {
      "cell_type": "markdown",
      "metadata": {
        "id": "_PH1J0iizctu"
      },
      "source": [
        "**issubset()**"
      ]
    },
    {
      "cell_type": "markdown",
      "metadata": {
        "id": "sR4OlqcPzctu"
      },
      "source": [
        "* if one set includes all variables of second set second set will be subset of first set so it will return True"
      ]
    },
    {
      "cell_type": "markdown",
      "metadata": {
        "id": "otjb2zN2zctu"
      },
      "source": [
        "**union()**"
      ]
    },
    {
      "cell_type": "markdown",
      "metadata": {
        "id": "z6MrfheCzctu"
      },
      "source": [
        "* it connects two sets in a set"
      ]
    },
    {
      "cell_type": "markdown",
      "metadata": {
        "id": "ic7m82Bxzctu"
      },
      "source": [
        "**update()**"
      ]
    },
    {
      "cell_type": "markdown",
      "metadata": {
        "id": "PNcImkAZzctu"
      },
      "source": [
        "* it takes all variables of set2 to the set1"
      ]
    },
    {
      "cell_type": "markdown",
      "metadata": {
        "id": "9Gyk5l3Azctu"
      },
      "source": [
        "## Advanced Lists"
      ]
    },
    {
      "cell_type": "markdown",
      "metadata": {
        "id": "LsI-db-0zctu"
      },
      "source": [
        "**extend()**"
      ]
    },
    {
      "cell_type": "code",
      "execution_count": null,
      "metadata": {
        "id": "x-qIvatQzctu",
        "outputId": "bc74820c-b5fe-4d66-a22b-333da6c5e88b"
      },
      "outputs": [
        {
          "data": {
            "text/plain": [
              "[1, 2, 3, 4, 5, 6, 7]"
            ]
          },
          "execution_count": 2,
          "metadata": {},
          "output_type": "execute_result"
        }
      ],
      "source": [
        "list1=[1,2,3]\n",
        "list2=[4,5,6,7]\n",
        "list1.extend(list2)\n",
        "list1"
      ]
    },
    {
      "cell_type": "markdown",
      "metadata": {
        "id": "RNu_VE9czctu"
      },
      "source": [
        "**insert**"
      ]
    },
    {
      "cell_type": "code",
      "execution_count": null,
      "metadata": {
        "id": "9tzMkeRAzctu",
        "outputId": "78e745bc-bc48-4f59-d254-598274d8d8b4"
      },
      "outputs": [
        {
          "data": {
            "text/plain": [
              "[1, 2, 3, 'Var', 'Var', 4, 5, 6, 7]"
            ]
          },
          "execution_count": 4,
          "metadata": {},
          "output_type": "execute_result"
        }
      ],
      "source": [
        "list1.insert(3,\"Var\") #u can add a variable wherever u want\n",
        "list1"
      ]
    },
    {
      "cell_type": "markdown",
      "metadata": {
        "id": "adUHW8yAzctv"
      },
      "source": [
        "**pop()**"
      ]
    },
    {
      "cell_type": "code",
      "execution_count": null,
      "metadata": {
        "id": "KpOKnO4wzctv",
        "outputId": "f71d3c32-07e7-4a92-9a1f-13fc277cc777"
      },
      "outputs": [
        {
          "data": {
            "text/plain": [
              "'Var'"
            ]
          },
          "execution_count": 5,
          "metadata": {},
          "output_type": "execute_result"
        }
      ],
      "source": [
        "list1.pop(3)"
      ]
    },
    {
      "cell_type": "code",
      "execution_count": null,
      "metadata": {
        "id": "FBHOolyEzctv",
        "outputId": "230c293f-00aa-438f-9281-3e5e2bd2bd74"
      },
      "outputs": [
        {
          "data": {
            "text/plain": [
              "[1, 2, 3, 'Var', 4, 5, 6, 7]"
            ]
          },
          "execution_count": 6,
          "metadata": {},
          "output_type": "execute_result"
        }
      ],
      "source": [
        "list1"
      ]
    },
    {
      "cell_type": "markdown",
      "metadata": {
        "id": "O_yC-UiKzctv"
      },
      "source": [
        "* if u put nothing in pop it will remove the last variable of list"
      ]
    },
    {
      "cell_type": "markdown",
      "metadata": {
        "id": "uuRgjixFzctv"
      },
      "source": [
        "**remove()**"
      ]
    },
    {
      "cell_type": "markdown",
      "metadata": {
        "id": "apKDegdMzctv"
      },
      "source": [
        "* it is like pop but yhere is a difference that u should write the variable's name not it's place"
      ]
    },
    {
      "cell_type": "code",
      "execution_count": null,
      "metadata": {
        "id": "mrp1xaKtzctv"
      },
      "outputs": [],
      "source": [
        "list1.remove(\"Var\")"
      ]
    },
    {
      "cell_type": "code",
      "execution_count": null,
      "metadata": {
        "id": "nF5VhJtyzctv",
        "outputId": "13831c52-4852-47da-ee03-f102f5650da5"
      },
      "outputs": [
        {
          "data": {
            "text/plain": [
              "[1, 2, 3, 4, 5, 6, 7]"
            ]
          },
          "execution_count": 8,
          "metadata": {},
          "output_type": "execute_result"
        }
      ],
      "source": [
        "list1"
      ]
    },
    {
      "cell_type": "markdown",
      "metadata": {
        "id": "Qwi-hJKfzctv"
      },
      "source": [
        "**index()**"
      ]
    },
    {
      "cell_type": "markdown",
      "metadata": {
        "id": "z8nbF87Qzctv"
      },
      "source": [
        "* it helps to find the variable's place in the list"
      ]
    },
    {
      "cell_type": "code",
      "execution_count": null,
      "metadata": {
        "id": "CQGPsz_Ezctv",
        "outputId": "b3355af2-0ad2-4f6a-eba5-1661c45f8853"
      },
      "outputs": [
        {
          "data": {
            "text/plain": [
              "4"
            ]
          },
          "execution_count": 11,
          "metadata": {},
          "output_type": "execute_result"
        }
      ],
      "source": [
        "list1.index(5)"
      ]
    },
    {
      "cell_type": "markdown",
      "metadata": {
        "id": "JVGN3MMxzctv"
      },
      "source": [
        "* index(x,y) start to seek from x to find y in the list"
      ]
    },
    {
      "cell_type": "markdown",
      "metadata": {
        "id": "DUEmWj6xzctv"
      },
      "source": [
        "**count()**"
      ]
    },
    {
      "cell_type": "code",
      "execution_count": null,
      "metadata": {
        "id": "40uhfIKGzctv",
        "outputId": "1d4f691e-0911-48a9-adee-8749aaf2a598"
      },
      "outputs": [
        {
          "data": {
            "text/plain": [
              "2"
            ]
          },
          "execution_count": 13,
          "metadata": {},
          "output_type": "execute_result"
        }
      ],
      "source": [
        "list2=[1,2,4,5,7,9,7,5,7]\n",
        "list2.count(5)"
      ]
    },
    {
      "cell_type": "markdown",
      "metadata": {
        "id": "R-fn0iIIzctv"
      },
      "source": [
        "**sort()**"
      ]
    },
    {
      "cell_type": "code",
      "execution_count": null,
      "metadata": {
        "id": "rTE8miJczctv",
        "outputId": "f041812e-01ba-41f9-b234-9ddf28d8a0d3"
      },
      "outputs": [
        {
          "data": {
            "text/plain": [
              "[1, 2, 4, 5, 5, 7, 7, 7, 9]"
            ]
          },
          "execution_count": 15,
          "metadata": {},
          "output_type": "execute_result"
        }
      ],
      "source": [
        "list2.sort()\n",
        "list2"
      ]
    },
    {
      "cell_type": "code",
      "execution_count": null,
      "metadata": {
        "id": "k2twhpjwzctv",
        "outputId": "2792b37e-4d37-4405-8764-b32c662227c8"
      },
      "outputs": [
        {
          "data": {
            "text/plain": [
              "['Avocado', 'Book', 'Coffee', 'Vegetable']"
            ]
          },
          "execution_count": 18,
          "metadata": {},
          "output_type": "execute_result"
        }
      ],
      "source": [
        "list3=[\"Book\",\"Vegetable\",\"Coffee\",\"Avocado\"]\n",
        "list3.sort()\n",
        "list3"
      ]
    },
    {
      "cell_type": "code",
      "execution_count": null,
      "metadata": {
        "id": "RvxZUstOzctv"
      },
      "outputs": [],
      "source": [
        "list3.sort(reverse=True) # sorts from bigger to smaller"
      ]
    },
    {
      "cell_type": "code",
      "execution_count": null,
      "metadata": {
        "id": "7KnSxTU-zctv",
        "outputId": "8971a158-860d-43d1-c697-620d300d79a6"
      },
      "outputs": [
        {
          "data": {
            "text/plain": [
              "['Vegetable', 'Coffee', 'Book', 'Avocado']"
            ]
          },
          "execution_count": 20,
          "metadata": {},
          "output_type": "execute_result"
        }
      ],
      "source": [
        "list3"
      ]
    },
    {
      "cell_type": "markdown",
      "metadata": {
        "id": "RZlR-k_Pzctv"
      },
      "source": [
        "# SQL Database"
      ]
    },
    {
      "cell_type": "markdown",
      "metadata": {
        "id": "V--sHC7Bzctv"
      },
      "source": [
        "**Select * From kitaplık** - Tablodaki tüm bilgileri almamızı sağlar.\n",
        "\n",
        "**Select İsim,Yazar From kitaplık** Tablodaki tüm bilgileri sadece İsim ve Yazar özelliklerini almamızı sağlar.\n",
        "\n",
        "**Select * From kitaplık where Yayınevi = 'Everest'** Sadece Yayınevi özelliği Everest olanları alır."
      ]
    },
    {
      "cell_type": "code",
      "execution_count": null,
      "metadata": {
        "id": "Vl1pf_ACzctv",
        "outputId": "ced4fb0b-c3d5-457a-cf51-ec4b4640f56d"
      },
      "outputs": [
        {
          "data": {
            "text/plain": [
              "3"
            ]
          },
          "execution_count": 4,
          "metadata": {},
          "output_type": "execute_result"
        }
      ],
      "source": [
        "int(3.8)"
      ]
    },
    {
      "cell_type": "code",
      "execution_count": null,
      "metadata": {
        "id": "VIKH6KHDzctw",
        "outputId": "0879823c-348e-4709-d8f2-b5d2af4d1088"
      },
      "outputs": [
        {
          "data": {
            "text/plain": [
              "80.0"
            ]
          },
          "execution_count": 5,
          "metadata": {},
          "output_type": "execute_result"
        }
      ],
      "source": [
        "(3.8*100)%100"
      ]
    },
    {
      "cell_type": "markdown",
      "metadata": {
        "id": "D5HK4v5Dzctw"
      },
      "source": [
        "# Nested Functions and Function Parameters"
      ]
    },
    {
      "cell_type": "markdown",
      "metadata": {
        "id": "nZ7Z6fatzctw"
      },
      "source": [
        "***args:** U can put variable as much as u want"
      ]
    },
    {
      "cell_type": "code",
      "execution_count": null,
      "metadata": {
        "id": "iu2JRq8gzctw"
      },
      "outputs": [],
      "source": [
        "def func(*args):\n",
        "    for i in args:\n",
        "        print(i)"
      ]
    },
    {
      "cell_type": "code",
      "execution_count": null,
      "metadata": {
        "id": "Mi-_pahtzctw",
        "outputId": "8f12f4fd-a1f2-4c90-8522-b6da86985abd"
      },
      "outputs": [
        {
          "name": "stdout",
          "output_type": "stream",
          "text": [
            "1\n",
            "2\n",
            "3\n",
            "4\n",
            "5\n",
            "6\n"
          ]
        }
      ],
      "source": [
        "func(1,2,3,4,5,6)"
      ]
    },
    {
      "cell_type": "markdown",
      "metadata": {
        "id": "PgxMhcapzctw"
      },
      "source": [
        "****kwargs:** U can give variables values in a dictionary"
      ]
    },
    {
      "cell_type": "code",
      "execution_count": null,
      "metadata": {
        "id": "8KjEt1egzctw"
      },
      "outputs": [],
      "source": [
        "def func(**kwargs):\n",
        "    print(kwargs)"
      ]
    },
    {
      "cell_type": "code",
      "execution_count": null,
      "metadata": {
        "id": "pval4XC8zctw",
        "outputId": "d431294b-55d7-4397-e2bd-913273b3fc96"
      },
      "outputs": [
        {
          "name": "stdout",
          "output_type": "stream",
          "text": [
            "{'name': 'Mehmet', 'surname': 'ISIK', 'number': 19067607}\n"
          ]
        }
      ],
      "source": [
        "func(name = \"Mehmet\", surname = \"ISIK\", number = 19067607)"
      ]
    },
    {
      "cell_type": "code",
      "execution_count": null,
      "metadata": {
        "id": "E0FKXmB5zctw"
      },
      "outputs": [],
      "source": [
        "def func(*args, **kwargs):\n",
        "    for i in args:\n",
        "        print(i)\n",
        "    print(\"----------------\")\n",
        "    for i,j in kwargs.items():\n",
        "        print(i,j)"
      ]
    },
    {
      "cell_type": "code",
      "execution_count": null,
      "metadata": {
        "id": "eUDjROfNzctw",
        "outputId": "c3b1dcc1-f917-488a-99f8-7945eb0d47dc"
      },
      "outputs": [
        {
          "name": "stdout",
          "output_type": "stream",
          "text": [
            "1\n",
            "2\n",
            "3\n",
            "4\n",
            "5\n",
            "----------------\n",
            "name Mehmet\n",
            "surname ISIK\n",
            "number 19067607\n"
          ]
        }
      ],
      "source": [
        "func(1,2,3,4,5,name = \"Mehmet\", surname = \"ISIK\", number = 19067607)"
      ]
    },
    {
      "cell_type": "markdown",
      "metadata": {
        "id": "mVbslT3dzctw"
      },
      "source": [
        "## Decorators"
      ]
    },
    {
      "cell_type": "markdown",
      "metadata": {
        "id": "K40Jofkgzctw"
      },
      "source": [
        "* it useful for not writing a code combination again"
      ]
    },
    {
      "cell_type": "code",
      "execution_count": null,
      "metadata": {
        "id": "1ycWFKuyzctw",
        "outputId": "4b582d0b-4307-428b-9340-f1f7cd724fc7"
      },
      "outputs": [
        {
          "name": "stdout",
          "output_type": "stream",
          "text": [
            "This func worked in 0.043297529220581055 sec.\n",
            "This func worked in 0.0608372688293457 sec.\n"
          ]
        },
        {
          "data": {
            "text/plain": [
              "[0,\n",
              " 1,\n",
              " 8,\n",
              " 27,\n",
              " 64,\n",
              " 125,\n",
              " 216,\n",
              " 343,\n",
              " 512,\n",
              " 729,\n",
              " 1000,\n",
              " 1331,\n",
              " 1728,\n",
              " 2197,\n",
              " 2744,\n",
              " 3375,\n",
              " 4096,\n",
              " 4913,\n",
              " 5832,\n",
              " 6859,\n",
              " 8000,\n",
              " 9261,\n",
              " 10648,\n",
              " 12167,\n",
              " 13824,\n",
              " 15625,\n",
              " 17576,\n",
              " 19683,\n",
              " 21952,\n",
              " 24389,\n",
              " 27000,\n",
              " 29791,\n",
              " 32768,\n",
              " 35937,\n",
              " 39304,\n",
              " 42875,\n",
              " 46656,\n",
              " 50653,\n",
              " 54872,\n",
              " 59319,\n",
              " 64000,\n",
              " 68921,\n",
              " 74088,\n",
              " 79507,\n",
              " 85184,\n",
              " 91125,\n",
              " 97336,\n",
              " 103823,\n",
              " 110592,\n",
              " 117649,\n",
              " 125000,\n",
              " 132651,\n",
              " 140608,\n",
              " 148877,\n",
              " 157464,\n",
              " 166375,\n",
              " 175616,\n",
              " 185193,\n",
              " 195112,\n",
              " 205379,\n",
              " 216000,\n",
              " 226981,\n",
              " 238328,\n",
              " 250047,\n",
              " 262144,\n",
              " 274625,\n",
              " 287496,\n",
              " 300763,\n",
              " 314432,\n",
              " 328509,\n",
              " 343000,\n",
              " 357911,\n",
              " 373248,\n",
              " 389017,\n",
              " 405224,\n",
              " 421875,\n",
              " 438976,\n",
              " 456533,\n",
              " 474552,\n",
              " 493039,\n",
              " 512000,\n",
              " 531441,\n",
              " 551368,\n",
              " 571787,\n",
              " 592704,\n",
              " 614125,\n",
              " 636056,\n",
              " 658503,\n",
              " 681472,\n",
              " 704969,\n",
              " 729000,\n",
              " 753571,\n",
              " 778688,\n",
              " 804357,\n",
              " 830584,\n",
              " 857375,\n",
              " 884736,\n",
              " 912673,\n",
              " 941192,\n",
              " 970299,\n",
              " 1000000,\n",
              " 1030301,\n",
              " 1061208,\n",
              " 1092727,\n",
              " 1124864,\n",
              " 1157625,\n",
              " 1191016,\n",
              " 1225043,\n",
              " 1259712,\n",
              " 1295029,\n",
              " 1331000,\n",
              " 1367631,\n",
              " 1404928,\n",
              " 1442897,\n",
              " 1481544,\n",
              " 1520875,\n",
              " 1560896,\n",
              " 1601613,\n",
              " 1643032,\n",
              " 1685159,\n",
              " 1728000,\n",
              " 1771561,\n",
              " 1815848,\n",
              " 1860867,\n",
              " 1906624,\n",
              " 1953125,\n",
              " 2000376,\n",
              " 2048383,\n",
              " 2097152,\n",
              " 2146689,\n",
              " 2197000,\n",
              " 2248091,\n",
              " 2299968,\n",
              " 2352637,\n",
              " 2406104,\n",
              " 2460375,\n",
              " 2515456,\n",
              " 2571353,\n",
              " 2628072,\n",
              " 2685619,\n",
              " 2744000,\n",
              " 2803221,\n",
              " 2863288,\n",
              " 2924207,\n",
              " 2985984,\n",
              " 3048625,\n",
              " 3112136,\n",
              " 3176523,\n",
              " 3241792,\n",
              " 3307949,\n",
              " 3375000,\n",
              " 3442951,\n",
              " 3511808,\n",
              " 3581577,\n",
              " 3652264,\n",
              " 3723875,\n",
              " 3796416,\n",
              " 3869893,\n",
              " 3944312,\n",
              " 4019679,\n",
              " 4096000,\n",
              " 4173281,\n",
              " 4251528,\n",
              " 4330747,\n",
              " 4410944,\n",
              " 4492125,\n",
              " 4574296,\n",
              " 4657463,\n",
              " 4741632,\n",
              " 4826809,\n",
              " 4913000,\n",
              " 5000211,\n",
              " 5088448,\n",
              " 5177717,\n",
              " 5268024,\n",
              " 5359375,\n",
              " 5451776,\n",
              " 5545233,\n",
              " 5639752,\n",
              " 5735339,\n",
              " 5832000,\n",
              " 5929741,\n",
              " 6028568,\n",
              " 6128487,\n",
              " 6229504,\n",
              " 6331625,\n",
              " 6434856,\n",
              " 6539203,\n",
              " 6644672,\n",
              " 6751269,\n",
              " 6859000,\n",
              " 6967871,\n",
              " 7077888,\n",
              " 7189057,\n",
              " 7301384,\n",
              " 7414875,\n",
              " 7529536,\n",
              " 7645373,\n",
              " 7762392,\n",
              " 7880599,\n",
              " 8000000,\n",
              " 8120601,\n",
              " 8242408,\n",
              " 8365427,\n",
              " 8489664,\n",
              " 8615125,\n",
              " 8741816,\n",
              " 8869743,\n",
              " 8998912,\n",
              " 9129329,\n",
              " 9261000,\n",
              " 9393931,\n",
              " 9528128,\n",
              " 9663597,\n",
              " 9800344,\n",
              " 9938375,\n",
              " 10077696,\n",
              " 10218313,\n",
              " 10360232,\n",
              " 10503459,\n",
              " 10648000,\n",
              " 10793861,\n",
              " 10941048,\n",
              " 11089567,\n",
              " 11239424,\n",
              " 11390625,\n",
              " 11543176,\n",
              " 11697083,\n",
              " 11852352,\n",
              " 12008989,\n",
              " 12167000,\n",
              " 12326391,\n",
              " 12487168,\n",
              " 12649337,\n",
              " 12812904,\n",
              " 12977875,\n",
              " 13144256,\n",
              " 13312053,\n",
              " 13481272,\n",
              " 13651919,\n",
              " 13824000,\n",
              " 13997521,\n",
              " 14172488,\n",
              " 14348907,\n",
              " 14526784,\n",
              " 14706125,\n",
              " 14886936,\n",
              " 15069223,\n",
              " 15252992,\n",
              " 15438249,\n",
              " 15625000,\n",
              " 15813251,\n",
              " 16003008,\n",
              " 16194277,\n",
              " 16387064,\n",
              " 16581375,\n",
              " 16777216,\n",
              " 16974593,\n",
              " 17173512,\n",
              " 17373979,\n",
              " 17576000,\n",
              " 17779581,\n",
              " 17984728,\n",
              " 18191447,\n",
              " 18399744,\n",
              " 18609625,\n",
              " 18821096,\n",
              " 19034163,\n",
              " 19248832,\n",
              " 19465109,\n",
              " 19683000,\n",
              " 19902511,\n",
              " 20123648,\n",
              " 20346417,\n",
              " 20570824,\n",
              " 20796875,\n",
              " 21024576,\n",
              " 21253933,\n",
              " 21484952,\n",
              " 21717639,\n",
              " 21952000,\n",
              " 22188041,\n",
              " 22425768,\n",
              " 22665187,\n",
              " 22906304,\n",
              " 23149125,\n",
              " 23393656,\n",
              " 23639903,\n",
              " 23887872,\n",
              " 24137569,\n",
              " 24389000,\n",
              " 24642171,\n",
              " 24897088,\n",
              " 25153757,\n",
              " 25412184,\n",
              " 25672375,\n",
              " 25934336,\n",
              " 26198073,\n",
              " 26463592,\n",
              " 26730899,\n",
              " 27000000,\n",
              " 27270901,\n",
              " 27543608,\n",
              " 27818127,\n",
              " 28094464,\n",
              " 28372625,\n",
              " 28652616,\n",
              " 28934443,\n",
              " 29218112,\n",
              " 29503629,\n",
              " 29791000,\n",
              " 30080231,\n",
              " 30371328,\n",
              " 30664297,\n",
              " 30959144,\n",
              " 31255875,\n",
              " 31554496,\n",
              " 31855013,\n",
              " 32157432,\n",
              " 32461759,\n",
              " 32768000,\n",
              " 33076161,\n",
              " 33386248,\n",
              " 33698267,\n",
              " 34012224,\n",
              " 34328125,\n",
              " 34645976,\n",
              " 34965783,\n",
              " 35287552,\n",
              " 35611289,\n",
              " 35937000,\n",
              " 36264691,\n",
              " 36594368,\n",
              " 36926037,\n",
              " 37259704,\n",
              " 37595375,\n",
              " 37933056,\n",
              " 38272753,\n",
              " 38614472,\n",
              " 38958219,\n",
              " 39304000,\n",
              " 39651821,\n",
              " 40001688,\n",
              " 40353607,\n",
              " 40707584,\n",
              " 41063625,\n",
              " 41421736,\n",
              " 41781923,\n",
              " 42144192,\n",
              " 42508549,\n",
              " 42875000,\n",
              " 43243551,\n",
              " 43614208,\n",
              " 43986977,\n",
              " 44361864,\n",
              " 44738875,\n",
              " 45118016,\n",
              " 45499293,\n",
              " 45882712,\n",
              " 46268279,\n",
              " 46656000,\n",
              " 47045881,\n",
              " 47437928,\n",
              " 47832147,\n",
              " 48228544,\n",
              " 48627125,\n",
              " 49027896,\n",
              " 49430863,\n",
              " 49836032,\n",
              " 50243409,\n",
              " 50653000,\n",
              " 51064811,\n",
              " 51478848,\n",
              " 51895117,\n",
              " 52313624,\n",
              " 52734375,\n",
              " 53157376,\n",
              " 53582633,\n",
              " 54010152,\n",
              " 54439939,\n",
              " 54872000,\n",
              " 55306341,\n",
              " 55742968,\n",
              " 56181887,\n",
              " 56623104,\n",
              " 57066625,\n",
              " 57512456,\n",
              " 57960603,\n",
              " 58411072,\n",
              " 58863869,\n",
              " 59319000,\n",
              " 59776471,\n",
              " 60236288,\n",
              " 60698457,\n",
              " 61162984,\n",
              " 61629875,\n",
              " 62099136,\n",
              " 62570773,\n",
              " 63044792,\n",
              " 63521199,\n",
              " 64000000,\n",
              " 64481201,\n",
              " 64964808,\n",
              " 65450827,\n",
              " 65939264,\n",
              " 66430125,\n",
              " 66923416,\n",
              " 67419143,\n",
              " 67917312,\n",
              " 68417929,\n",
              " 68921000,\n",
              " 69426531,\n",
              " 69934528,\n",
              " 70444997,\n",
              " 70957944,\n",
              " 71473375,\n",
              " 71991296,\n",
              " 72511713,\n",
              " 73034632,\n",
              " 73560059,\n",
              " 74088000,\n",
              " 74618461,\n",
              " 75151448,\n",
              " 75686967,\n",
              " 76225024,\n",
              " 76765625,\n",
              " 77308776,\n",
              " 77854483,\n",
              " 78402752,\n",
              " 78953589,\n",
              " 79507000,\n",
              " 80062991,\n",
              " 80621568,\n",
              " 81182737,\n",
              " 81746504,\n",
              " 82312875,\n",
              " 82881856,\n",
              " 83453453,\n",
              " 84027672,\n",
              " 84604519,\n",
              " 85184000,\n",
              " 85766121,\n",
              " 86350888,\n",
              " 86938307,\n",
              " 87528384,\n",
              " 88121125,\n",
              " 88716536,\n",
              " 89314623,\n",
              " 89915392,\n",
              " 90518849,\n",
              " 91125000,\n",
              " 91733851,\n",
              " 92345408,\n",
              " 92959677,\n",
              " 93576664,\n",
              " 94196375,\n",
              " 94818816,\n",
              " 95443993,\n",
              " 96071912,\n",
              " 96702579,\n",
              " 97336000,\n",
              " 97972181,\n",
              " 98611128,\n",
              " 99252847,\n",
              " 99897344,\n",
              " 100544625,\n",
              " 101194696,\n",
              " 101847563,\n",
              " 102503232,\n",
              " 103161709,\n",
              " 103823000,\n",
              " 104487111,\n",
              " 105154048,\n",
              " 105823817,\n",
              " 106496424,\n",
              " 107171875,\n",
              " 107850176,\n",
              " 108531333,\n",
              " 109215352,\n",
              " 109902239,\n",
              " 110592000,\n",
              " 111284641,\n",
              " 111980168,\n",
              " 112678587,\n",
              " 113379904,\n",
              " 114084125,\n",
              " 114791256,\n",
              " 115501303,\n",
              " 116214272,\n",
              " 116930169,\n",
              " 117649000,\n",
              " 118370771,\n",
              " 119095488,\n",
              " 119823157,\n",
              " 120553784,\n",
              " 121287375,\n",
              " 122023936,\n",
              " 122763473,\n",
              " 123505992,\n",
              " 124251499,\n",
              " 125000000,\n",
              " 125751501,\n",
              " 126506008,\n",
              " 127263527,\n",
              " 128024064,\n",
              " 128787625,\n",
              " 129554216,\n",
              " 130323843,\n",
              " 131096512,\n",
              " 131872229,\n",
              " 132651000,\n",
              " 133432831,\n",
              " 134217728,\n",
              " 135005697,\n",
              " 135796744,\n",
              " 136590875,\n",
              " 137388096,\n",
              " 138188413,\n",
              " 138991832,\n",
              " 139798359,\n",
              " 140608000,\n",
              " 141420761,\n",
              " 142236648,\n",
              " 143055667,\n",
              " 143877824,\n",
              " 144703125,\n",
              " 145531576,\n",
              " 146363183,\n",
              " 147197952,\n",
              " 148035889,\n",
              " 148877000,\n",
              " 149721291,\n",
              " 150568768,\n",
              " 151419437,\n",
              " 152273304,\n",
              " 153130375,\n",
              " 153990656,\n",
              " 154854153,\n",
              " 155720872,\n",
              " 156590819,\n",
              " 157464000,\n",
              " 158340421,\n",
              " 159220088,\n",
              " 160103007,\n",
              " 160989184,\n",
              " 161878625,\n",
              " 162771336,\n",
              " 163667323,\n",
              " 164566592,\n",
              " 165469149,\n",
              " 166375000,\n",
              " 167284151,\n",
              " 168196608,\n",
              " 169112377,\n",
              " 170031464,\n",
              " 170953875,\n",
              " 171879616,\n",
              " 172808693,\n",
              " 173741112,\n",
              " 174676879,\n",
              " 175616000,\n",
              " 176558481,\n",
              " 177504328,\n",
              " 178453547,\n",
              " 179406144,\n",
              " 180362125,\n",
              " 181321496,\n",
              " 182284263,\n",
              " 183250432,\n",
              " 184220009,\n",
              " 185193000,\n",
              " 186169411,\n",
              " 187149248,\n",
              " 188132517,\n",
              " 189119224,\n",
              " 190109375,\n",
              " 191102976,\n",
              " 192100033,\n",
              " 193100552,\n",
              " 194104539,\n",
              " 195112000,\n",
              " 196122941,\n",
              " 197137368,\n",
              " 198155287,\n",
              " 199176704,\n",
              " 200201625,\n",
              " 201230056,\n",
              " 202262003,\n",
              " 203297472,\n",
              " 204336469,\n",
              " 205379000,\n",
              " 206425071,\n",
              " 207474688,\n",
              " 208527857,\n",
              " 209584584,\n",
              " 210644875,\n",
              " 211708736,\n",
              " 212776173,\n",
              " 213847192,\n",
              " 214921799,\n",
              " 216000000,\n",
              " 217081801,\n",
              " 218167208,\n",
              " 219256227,\n",
              " 220348864,\n",
              " 221445125,\n",
              " 222545016,\n",
              " 223648543,\n",
              " 224755712,\n",
              " 225866529,\n",
              " 226981000,\n",
              " 228099131,\n",
              " 229220928,\n",
              " 230346397,\n",
              " 231475544,\n",
              " 232608375,\n",
              " 233744896,\n",
              " 234885113,\n",
              " 236029032,\n",
              " 237176659,\n",
              " 238328000,\n",
              " 239483061,\n",
              " 240641848,\n",
              " 241804367,\n",
              " 242970624,\n",
              " 244140625,\n",
              " 245314376,\n",
              " 246491883,\n",
              " 247673152,\n",
              " 248858189,\n",
              " 250047000,\n",
              " 251239591,\n",
              " 252435968,\n",
              " 253636137,\n",
              " 254840104,\n",
              " 256047875,\n",
              " 257259456,\n",
              " 258474853,\n",
              " 259694072,\n",
              " 260917119,\n",
              " 262144000,\n",
              " 263374721,\n",
              " 264609288,\n",
              " 265847707,\n",
              " 267089984,\n",
              " 268336125,\n",
              " 269586136,\n",
              " 270840023,\n",
              " 272097792,\n",
              " 273359449,\n",
              " 274625000,\n",
              " 275894451,\n",
              " 277167808,\n",
              " 278445077,\n",
              " 279726264,\n",
              " 281011375,\n",
              " 282300416,\n",
              " 283593393,\n",
              " 284890312,\n",
              " 286191179,\n",
              " 287496000,\n",
              " 288804781,\n",
              " 290117528,\n",
              " 291434247,\n",
              " 292754944,\n",
              " 294079625,\n",
              " 295408296,\n",
              " 296740963,\n",
              " 298077632,\n",
              " 299418309,\n",
              " 300763000,\n",
              " 302111711,\n",
              " 303464448,\n",
              " 304821217,\n",
              " 306182024,\n",
              " 307546875,\n",
              " 308915776,\n",
              " 310288733,\n",
              " 311665752,\n",
              " 313046839,\n",
              " 314432000,\n",
              " 315821241,\n",
              " 317214568,\n",
              " 318611987,\n",
              " 320013504,\n",
              " 321419125,\n",
              " 322828856,\n",
              " 324242703,\n",
              " 325660672,\n",
              " 327082769,\n",
              " 328509000,\n",
              " 329939371,\n",
              " 331373888,\n",
              " 332812557,\n",
              " 334255384,\n",
              " 335702375,\n",
              " 337153536,\n",
              " 338608873,\n",
              " 340068392,\n",
              " 341532099,\n",
              " 343000000,\n",
              " 344472101,\n",
              " 345948408,\n",
              " 347428927,\n",
              " 348913664,\n",
              " 350402625,\n",
              " 351895816,\n",
              " 353393243,\n",
              " 354894912,\n",
              " 356400829,\n",
              " 357911000,\n",
              " 359425431,\n",
              " 360944128,\n",
              " 362467097,\n",
              " 363994344,\n",
              " 365525875,\n",
              " 367061696,\n",
              " 368601813,\n",
              " 370146232,\n",
              " 371694959,\n",
              " 373248000,\n",
              " 374805361,\n",
              " 376367048,\n",
              " 377933067,\n",
              " 379503424,\n",
              " 381078125,\n",
              " 382657176,\n",
              " 384240583,\n",
              " 385828352,\n",
              " 387420489,\n",
              " 389017000,\n",
              " 390617891,\n",
              " 392223168,\n",
              " 393832837,\n",
              " 395446904,\n",
              " 397065375,\n",
              " 398688256,\n",
              " 400315553,\n",
              " 401947272,\n",
              " 403583419,\n",
              " 405224000,\n",
              " 406869021,\n",
              " 408518488,\n",
              " 410172407,\n",
              " 411830784,\n",
              " 413493625,\n",
              " 415160936,\n",
              " 416832723,\n",
              " 418508992,\n",
              " 420189749,\n",
              " 421875000,\n",
              " 423564751,\n",
              " 425259008,\n",
              " 426957777,\n",
              " 428661064,\n",
              " 430368875,\n",
              " 432081216,\n",
              " 433798093,\n",
              " 435519512,\n",
              " 437245479,\n",
              " 438976000,\n",
              " 440711081,\n",
              " 442450728,\n",
              " 444194947,\n",
              " 445943744,\n",
              " 447697125,\n",
              " 449455096,\n",
              " 451217663,\n",
              " 452984832,\n",
              " 454756609,\n",
              " 456533000,\n",
              " 458314011,\n",
              " 460099648,\n",
              " 461889917,\n",
              " 463684824,\n",
              " 465484375,\n",
              " 467288576,\n",
              " 469097433,\n",
              " 470910952,\n",
              " 472729139,\n",
              " 474552000,\n",
              " 476379541,\n",
              " 478211768,\n",
              " 480048687,\n",
              " 481890304,\n",
              " 483736625,\n",
              " 485587656,\n",
              " 487443403,\n",
              " 489303872,\n",
              " 491169069,\n",
              " 493039000,\n",
              " 494913671,\n",
              " 496793088,\n",
              " 498677257,\n",
              " 500566184,\n",
              " 502459875,\n",
              " 504358336,\n",
              " 506261573,\n",
              " 508169592,\n",
              " 510082399,\n",
              " 512000000,\n",
              " 513922401,\n",
              " 515849608,\n",
              " 517781627,\n",
              " 519718464,\n",
              " 521660125,\n",
              " 523606616,\n",
              " 525557943,\n",
              " 527514112,\n",
              " 529475129,\n",
              " 531441000,\n",
              " 533411731,\n",
              " 535387328,\n",
              " 537367797,\n",
              " 539353144,\n",
              " 541343375,\n",
              " 543338496,\n",
              " 545338513,\n",
              " 547343432,\n",
              " 549353259,\n",
              " 551368000,\n",
              " 553387661,\n",
              " 555412248,\n",
              " 557441767,\n",
              " 559476224,\n",
              " 561515625,\n",
              " 563559976,\n",
              " 565609283,\n",
              " 567663552,\n",
              " 569722789,\n",
              " 571787000,\n",
              " 573856191,\n",
              " 575930368,\n",
              " 578009537,\n",
              " 580093704,\n",
              " 582182875,\n",
              " 584277056,\n",
              " 586376253,\n",
              " 588480472,\n",
              " 590589719,\n",
              " 592704000,\n",
              " 594823321,\n",
              " 596947688,\n",
              " 599077107,\n",
              " 601211584,\n",
              " 603351125,\n",
              " 605495736,\n",
              " 607645423,\n",
              " 609800192,\n",
              " 611960049,\n",
              " 614125000,\n",
              " 616295051,\n",
              " 618470208,\n",
              " 620650477,\n",
              " 622835864,\n",
              " 625026375,\n",
              " 627222016,\n",
              " 629422793,\n",
              " 631628712,\n",
              " 633839779,\n",
              " 636056000,\n",
              " 638277381,\n",
              " 640503928,\n",
              " 642735647,\n",
              " 644972544,\n",
              " 647214625,\n",
              " 649461896,\n",
              " 651714363,\n",
              " 653972032,\n",
              " 656234909,\n",
              " 658503000,\n",
              " 660776311,\n",
              " 663054848,\n",
              " 665338617,\n",
              " 667627624,\n",
              " 669921875,\n",
              " 672221376,\n",
              " 674526133,\n",
              " 676836152,\n",
              " 679151439,\n",
              " 681472000,\n",
              " 683797841,\n",
              " 686128968,\n",
              " 688465387,\n",
              " 690807104,\n",
              " 693154125,\n",
              " 695506456,\n",
              " 697864103,\n",
              " 700227072,\n",
              " 702595369,\n",
              " 704969000,\n",
              " 707347971,\n",
              " 709732288,\n",
              " 712121957,\n",
              " 714516984,\n",
              " 716917375,\n",
              " 719323136,\n",
              " 721734273,\n",
              " 724150792,\n",
              " 726572699,\n",
              " 729000000,\n",
              " 731432701,\n",
              " 733870808,\n",
              " 736314327,\n",
              " 738763264,\n",
              " 741217625,\n",
              " 743677416,\n",
              " 746142643,\n",
              " 748613312,\n",
              " 751089429,\n",
              " 753571000,\n",
              " 756058031,\n",
              " 758550528,\n",
              " 761048497,\n",
              " 763551944,\n",
              " 766060875,\n",
              " 768575296,\n",
              " 771095213,\n",
              " 773620632,\n",
              " 776151559,\n",
              " 778688000,\n",
              " 781229961,\n",
              " 783777448,\n",
              " 786330467,\n",
              " 788889024,\n",
              " 791453125,\n",
              " 794022776,\n",
              " 796597983,\n",
              " 799178752,\n",
              " 801765089,\n",
              " 804357000,\n",
              " 806954491,\n",
              " 809557568,\n",
              " 812166237,\n",
              " 814780504,\n",
              " 817400375,\n",
              " 820025856,\n",
              " 822656953,\n",
              " 825293672,\n",
              " 827936019,\n",
              " 830584000,\n",
              " 833237621,\n",
              " 835896888,\n",
              " 838561807,\n",
              " 841232384,\n",
              " 843908625,\n",
              " 846590536,\n",
              " 849278123,\n",
              " 851971392,\n",
              " 854670349,\n",
              " 857375000,\n",
              " 860085351,\n",
              " 862801408,\n",
              " 865523177,\n",
              " 868250664,\n",
              " 870983875,\n",
              " 873722816,\n",
              " 876467493,\n",
              " 879217912,\n",
              " 881974079,\n",
              " 884736000,\n",
              " 887503681,\n",
              " 890277128,\n",
              " 893056347,\n",
              " 895841344,\n",
              " 898632125,\n",
              " 901428696,\n",
              " 904231063,\n",
              " 907039232,\n",
              " 909853209,\n",
              " 912673000,\n",
              " 915498611,\n",
              " 918330048,\n",
              " 921167317,\n",
              " 924010424,\n",
              " 926859375,\n",
              " 929714176,\n",
              " 932574833,\n",
              " 935441352,\n",
              " 938313739,\n",
              " 941192000,\n",
              " 944076141,\n",
              " 946966168,\n",
              " 949862087,\n",
              " 952763904,\n",
              " 955671625,\n",
              " 958585256,\n",
              " 961504803,\n",
              " 964430272,\n",
              " 967361669,\n",
              " 970299000,\n",
              " 973242271,\n",
              " 976191488,\n",
              " 979146657,\n",
              " 982107784,\n",
              " 985074875,\n",
              " 988047936,\n",
              " 991026973,\n",
              " 994011992,\n",
              " 997002999,\n",
              " ...]"
            ]
          },
          "execution_count": 11,
          "metadata": {},
          "output_type": "execute_result"
        }
      ],
      "source": [
        "import time\n",
        "\n",
        "def pow2(numbers):\n",
        "    res = list()\n",
        "    start = time.time()\n",
        "    for i in numbers:\n",
        "        res.append(i**2)\n",
        "    finish = time.time()\n",
        "    print(\"This func worked in \" + str(finish-start) + \" sec.\")\n",
        "    return res\n",
        "def pow3(numbers):\n",
        "    res = list()\n",
        "    start = time.time()\n",
        "    for i in numbers:\n",
        "        res.append(i**3)\n",
        "    finish = time.time()\n",
        "    print(\"This func worked in \" + str(finish-start) + \" sec.\")\n",
        "    return res\n",
        "pow2(range(100000))\n",
        "pow3(range(100000))"
      ]
    },
    {
      "cell_type": "code",
      "execution_count": null,
      "metadata": {
        "id": "FhA5tkrLzctw",
        "outputId": "a4580716-2620-4f0b-ee9f-69744d93f874"
      },
      "outputs": [
        {
          "name": "stdout",
          "output_type": "stream",
          "text": [
            "pow2 worked in 0.04189753532409668 sec.\n",
            "pow3 worked in 0.04689931869506836 sec.\n"
          ]
        },
        {
          "data": {
            "text/plain": [
              "[0,\n",
              " 1,\n",
              " 8,\n",
              " 27,\n",
              " 64,\n",
              " 125,\n",
              " 216,\n",
              " 343,\n",
              " 512,\n",
              " 729,\n",
              " 1000,\n",
              " 1331,\n",
              " 1728,\n",
              " 2197,\n",
              " 2744,\n",
              " 3375,\n",
              " 4096,\n",
              " 4913,\n",
              " 5832,\n",
              " 6859,\n",
              " 8000,\n",
              " 9261,\n",
              " 10648,\n",
              " 12167,\n",
              " 13824,\n",
              " 15625,\n",
              " 17576,\n",
              " 19683,\n",
              " 21952,\n",
              " 24389,\n",
              " 27000,\n",
              " 29791,\n",
              " 32768,\n",
              " 35937,\n",
              " 39304,\n",
              " 42875,\n",
              " 46656,\n",
              " 50653,\n",
              " 54872,\n",
              " 59319,\n",
              " 64000,\n",
              " 68921,\n",
              " 74088,\n",
              " 79507,\n",
              " 85184,\n",
              " 91125,\n",
              " 97336,\n",
              " 103823,\n",
              " 110592,\n",
              " 117649,\n",
              " 125000,\n",
              " 132651,\n",
              " 140608,\n",
              " 148877,\n",
              " 157464,\n",
              " 166375,\n",
              " 175616,\n",
              " 185193,\n",
              " 195112,\n",
              " 205379,\n",
              " 216000,\n",
              " 226981,\n",
              " 238328,\n",
              " 250047,\n",
              " 262144,\n",
              " 274625,\n",
              " 287496,\n",
              " 300763,\n",
              " 314432,\n",
              " 328509,\n",
              " 343000,\n",
              " 357911,\n",
              " 373248,\n",
              " 389017,\n",
              " 405224,\n",
              " 421875,\n",
              " 438976,\n",
              " 456533,\n",
              " 474552,\n",
              " 493039,\n",
              " 512000,\n",
              " 531441,\n",
              " 551368,\n",
              " 571787,\n",
              " 592704,\n",
              " 614125,\n",
              " 636056,\n",
              " 658503,\n",
              " 681472,\n",
              " 704969,\n",
              " 729000,\n",
              " 753571,\n",
              " 778688,\n",
              " 804357,\n",
              " 830584,\n",
              " 857375,\n",
              " 884736,\n",
              " 912673,\n",
              " 941192,\n",
              " 970299,\n",
              " 1000000,\n",
              " 1030301,\n",
              " 1061208,\n",
              " 1092727,\n",
              " 1124864,\n",
              " 1157625,\n",
              " 1191016,\n",
              " 1225043,\n",
              " 1259712,\n",
              " 1295029,\n",
              " 1331000,\n",
              " 1367631,\n",
              " 1404928,\n",
              " 1442897,\n",
              " 1481544,\n",
              " 1520875,\n",
              " 1560896,\n",
              " 1601613,\n",
              " 1643032,\n",
              " 1685159,\n",
              " 1728000,\n",
              " 1771561,\n",
              " 1815848,\n",
              " 1860867,\n",
              " 1906624,\n",
              " 1953125,\n",
              " 2000376,\n",
              " 2048383,\n",
              " 2097152,\n",
              " 2146689,\n",
              " 2197000,\n",
              " 2248091,\n",
              " 2299968,\n",
              " 2352637,\n",
              " 2406104,\n",
              " 2460375,\n",
              " 2515456,\n",
              " 2571353,\n",
              " 2628072,\n",
              " 2685619,\n",
              " 2744000,\n",
              " 2803221,\n",
              " 2863288,\n",
              " 2924207,\n",
              " 2985984,\n",
              " 3048625,\n",
              " 3112136,\n",
              " 3176523,\n",
              " 3241792,\n",
              " 3307949,\n",
              " 3375000,\n",
              " 3442951,\n",
              " 3511808,\n",
              " 3581577,\n",
              " 3652264,\n",
              " 3723875,\n",
              " 3796416,\n",
              " 3869893,\n",
              " 3944312,\n",
              " 4019679,\n",
              " 4096000,\n",
              " 4173281,\n",
              " 4251528,\n",
              " 4330747,\n",
              " 4410944,\n",
              " 4492125,\n",
              " 4574296,\n",
              " 4657463,\n",
              " 4741632,\n",
              " 4826809,\n",
              " 4913000,\n",
              " 5000211,\n",
              " 5088448,\n",
              " 5177717,\n",
              " 5268024,\n",
              " 5359375,\n",
              " 5451776,\n",
              " 5545233,\n",
              " 5639752,\n",
              " 5735339,\n",
              " 5832000,\n",
              " 5929741,\n",
              " 6028568,\n",
              " 6128487,\n",
              " 6229504,\n",
              " 6331625,\n",
              " 6434856,\n",
              " 6539203,\n",
              " 6644672,\n",
              " 6751269,\n",
              " 6859000,\n",
              " 6967871,\n",
              " 7077888,\n",
              " 7189057,\n",
              " 7301384,\n",
              " 7414875,\n",
              " 7529536,\n",
              " 7645373,\n",
              " 7762392,\n",
              " 7880599,\n",
              " 8000000,\n",
              " 8120601,\n",
              " 8242408,\n",
              " 8365427,\n",
              " 8489664,\n",
              " 8615125,\n",
              " 8741816,\n",
              " 8869743,\n",
              " 8998912,\n",
              " 9129329,\n",
              " 9261000,\n",
              " 9393931,\n",
              " 9528128,\n",
              " 9663597,\n",
              " 9800344,\n",
              " 9938375,\n",
              " 10077696,\n",
              " 10218313,\n",
              " 10360232,\n",
              " 10503459,\n",
              " 10648000,\n",
              " 10793861,\n",
              " 10941048,\n",
              " 11089567,\n",
              " 11239424,\n",
              " 11390625,\n",
              " 11543176,\n",
              " 11697083,\n",
              " 11852352,\n",
              " 12008989,\n",
              " 12167000,\n",
              " 12326391,\n",
              " 12487168,\n",
              " 12649337,\n",
              " 12812904,\n",
              " 12977875,\n",
              " 13144256,\n",
              " 13312053,\n",
              " 13481272,\n",
              " 13651919,\n",
              " 13824000,\n",
              " 13997521,\n",
              " 14172488,\n",
              " 14348907,\n",
              " 14526784,\n",
              " 14706125,\n",
              " 14886936,\n",
              " 15069223,\n",
              " 15252992,\n",
              " 15438249,\n",
              " 15625000,\n",
              " 15813251,\n",
              " 16003008,\n",
              " 16194277,\n",
              " 16387064,\n",
              " 16581375,\n",
              " 16777216,\n",
              " 16974593,\n",
              " 17173512,\n",
              " 17373979,\n",
              " 17576000,\n",
              " 17779581,\n",
              " 17984728,\n",
              " 18191447,\n",
              " 18399744,\n",
              " 18609625,\n",
              " 18821096,\n",
              " 19034163,\n",
              " 19248832,\n",
              " 19465109,\n",
              " 19683000,\n",
              " 19902511,\n",
              " 20123648,\n",
              " 20346417,\n",
              " 20570824,\n",
              " 20796875,\n",
              " 21024576,\n",
              " 21253933,\n",
              " 21484952,\n",
              " 21717639,\n",
              " 21952000,\n",
              " 22188041,\n",
              " 22425768,\n",
              " 22665187,\n",
              " 22906304,\n",
              " 23149125,\n",
              " 23393656,\n",
              " 23639903,\n",
              " 23887872,\n",
              " 24137569,\n",
              " 24389000,\n",
              " 24642171,\n",
              " 24897088,\n",
              " 25153757,\n",
              " 25412184,\n",
              " 25672375,\n",
              " 25934336,\n",
              " 26198073,\n",
              " 26463592,\n",
              " 26730899,\n",
              " 27000000,\n",
              " 27270901,\n",
              " 27543608,\n",
              " 27818127,\n",
              " 28094464,\n",
              " 28372625,\n",
              " 28652616,\n",
              " 28934443,\n",
              " 29218112,\n",
              " 29503629,\n",
              " 29791000,\n",
              " 30080231,\n",
              " 30371328,\n",
              " 30664297,\n",
              " 30959144,\n",
              " 31255875,\n",
              " 31554496,\n",
              " 31855013,\n",
              " 32157432,\n",
              " 32461759,\n",
              " 32768000,\n",
              " 33076161,\n",
              " 33386248,\n",
              " 33698267,\n",
              " 34012224,\n",
              " 34328125,\n",
              " 34645976,\n",
              " 34965783,\n",
              " 35287552,\n",
              " 35611289,\n",
              " 35937000,\n",
              " 36264691,\n",
              " 36594368,\n",
              " 36926037,\n",
              " 37259704,\n",
              " 37595375,\n",
              " 37933056,\n",
              " 38272753,\n",
              " 38614472,\n",
              " 38958219,\n",
              " 39304000,\n",
              " 39651821,\n",
              " 40001688,\n",
              " 40353607,\n",
              " 40707584,\n",
              " 41063625,\n",
              " 41421736,\n",
              " 41781923,\n",
              " 42144192,\n",
              " 42508549,\n",
              " 42875000,\n",
              " 43243551,\n",
              " 43614208,\n",
              " 43986977,\n",
              " 44361864,\n",
              " 44738875,\n",
              " 45118016,\n",
              " 45499293,\n",
              " 45882712,\n",
              " 46268279,\n",
              " 46656000,\n",
              " 47045881,\n",
              " 47437928,\n",
              " 47832147,\n",
              " 48228544,\n",
              " 48627125,\n",
              " 49027896,\n",
              " 49430863,\n",
              " 49836032,\n",
              " 50243409,\n",
              " 50653000,\n",
              " 51064811,\n",
              " 51478848,\n",
              " 51895117,\n",
              " 52313624,\n",
              " 52734375,\n",
              " 53157376,\n",
              " 53582633,\n",
              " 54010152,\n",
              " 54439939,\n",
              " 54872000,\n",
              " 55306341,\n",
              " 55742968,\n",
              " 56181887,\n",
              " 56623104,\n",
              " 57066625,\n",
              " 57512456,\n",
              " 57960603,\n",
              " 58411072,\n",
              " 58863869,\n",
              " 59319000,\n",
              " 59776471,\n",
              " 60236288,\n",
              " 60698457,\n",
              " 61162984,\n",
              " 61629875,\n",
              " 62099136,\n",
              " 62570773,\n",
              " 63044792,\n",
              " 63521199,\n",
              " 64000000,\n",
              " 64481201,\n",
              " 64964808,\n",
              " 65450827,\n",
              " 65939264,\n",
              " 66430125,\n",
              " 66923416,\n",
              " 67419143,\n",
              " 67917312,\n",
              " 68417929,\n",
              " 68921000,\n",
              " 69426531,\n",
              " 69934528,\n",
              " 70444997,\n",
              " 70957944,\n",
              " 71473375,\n",
              " 71991296,\n",
              " 72511713,\n",
              " 73034632,\n",
              " 73560059,\n",
              " 74088000,\n",
              " 74618461,\n",
              " 75151448,\n",
              " 75686967,\n",
              " 76225024,\n",
              " 76765625,\n",
              " 77308776,\n",
              " 77854483,\n",
              " 78402752,\n",
              " 78953589,\n",
              " 79507000,\n",
              " 80062991,\n",
              " 80621568,\n",
              " 81182737,\n",
              " 81746504,\n",
              " 82312875,\n",
              " 82881856,\n",
              " 83453453,\n",
              " 84027672,\n",
              " 84604519,\n",
              " 85184000,\n",
              " 85766121,\n",
              " 86350888,\n",
              " 86938307,\n",
              " 87528384,\n",
              " 88121125,\n",
              " 88716536,\n",
              " 89314623,\n",
              " 89915392,\n",
              " 90518849,\n",
              " 91125000,\n",
              " 91733851,\n",
              " 92345408,\n",
              " 92959677,\n",
              " 93576664,\n",
              " 94196375,\n",
              " 94818816,\n",
              " 95443993,\n",
              " 96071912,\n",
              " 96702579,\n",
              " 97336000,\n",
              " 97972181,\n",
              " 98611128,\n",
              " 99252847,\n",
              " 99897344,\n",
              " 100544625,\n",
              " 101194696,\n",
              " 101847563,\n",
              " 102503232,\n",
              " 103161709,\n",
              " 103823000,\n",
              " 104487111,\n",
              " 105154048,\n",
              " 105823817,\n",
              " 106496424,\n",
              " 107171875,\n",
              " 107850176,\n",
              " 108531333,\n",
              " 109215352,\n",
              " 109902239,\n",
              " 110592000,\n",
              " 111284641,\n",
              " 111980168,\n",
              " 112678587,\n",
              " 113379904,\n",
              " 114084125,\n",
              " 114791256,\n",
              " 115501303,\n",
              " 116214272,\n",
              " 116930169,\n",
              " 117649000,\n",
              " 118370771,\n",
              " 119095488,\n",
              " 119823157,\n",
              " 120553784,\n",
              " 121287375,\n",
              " 122023936,\n",
              " 122763473,\n",
              " 123505992,\n",
              " 124251499,\n",
              " 125000000,\n",
              " 125751501,\n",
              " 126506008,\n",
              " 127263527,\n",
              " 128024064,\n",
              " 128787625,\n",
              " 129554216,\n",
              " 130323843,\n",
              " 131096512,\n",
              " 131872229,\n",
              " 132651000,\n",
              " 133432831,\n",
              " 134217728,\n",
              " 135005697,\n",
              " 135796744,\n",
              " 136590875,\n",
              " 137388096,\n",
              " 138188413,\n",
              " 138991832,\n",
              " 139798359,\n",
              " 140608000,\n",
              " 141420761,\n",
              " 142236648,\n",
              " 143055667,\n",
              " 143877824,\n",
              " 144703125,\n",
              " 145531576,\n",
              " 146363183,\n",
              " 147197952,\n",
              " 148035889,\n",
              " 148877000,\n",
              " 149721291,\n",
              " 150568768,\n",
              " 151419437,\n",
              " 152273304,\n",
              " 153130375,\n",
              " 153990656,\n",
              " 154854153,\n",
              " 155720872,\n",
              " 156590819,\n",
              " 157464000,\n",
              " 158340421,\n",
              " 159220088,\n",
              " 160103007,\n",
              " 160989184,\n",
              " 161878625,\n",
              " 162771336,\n",
              " 163667323,\n",
              " 164566592,\n",
              " 165469149,\n",
              " 166375000,\n",
              " 167284151,\n",
              " 168196608,\n",
              " 169112377,\n",
              " 170031464,\n",
              " 170953875,\n",
              " 171879616,\n",
              " 172808693,\n",
              " 173741112,\n",
              " 174676879,\n",
              " 175616000,\n",
              " 176558481,\n",
              " 177504328,\n",
              " 178453547,\n",
              " 179406144,\n",
              " 180362125,\n",
              " 181321496,\n",
              " 182284263,\n",
              " 183250432,\n",
              " 184220009,\n",
              " 185193000,\n",
              " 186169411,\n",
              " 187149248,\n",
              " 188132517,\n",
              " 189119224,\n",
              " 190109375,\n",
              " 191102976,\n",
              " 192100033,\n",
              " 193100552,\n",
              " 194104539,\n",
              " 195112000,\n",
              " 196122941,\n",
              " 197137368,\n",
              " 198155287,\n",
              " 199176704,\n",
              " 200201625,\n",
              " 201230056,\n",
              " 202262003,\n",
              " 203297472,\n",
              " 204336469,\n",
              " 205379000,\n",
              " 206425071,\n",
              " 207474688,\n",
              " 208527857,\n",
              " 209584584,\n",
              " 210644875,\n",
              " 211708736,\n",
              " 212776173,\n",
              " 213847192,\n",
              " 214921799,\n",
              " 216000000,\n",
              " 217081801,\n",
              " 218167208,\n",
              " 219256227,\n",
              " 220348864,\n",
              " 221445125,\n",
              " 222545016,\n",
              " 223648543,\n",
              " 224755712,\n",
              " 225866529,\n",
              " 226981000,\n",
              " 228099131,\n",
              " 229220928,\n",
              " 230346397,\n",
              " 231475544,\n",
              " 232608375,\n",
              " 233744896,\n",
              " 234885113,\n",
              " 236029032,\n",
              " 237176659,\n",
              " 238328000,\n",
              " 239483061,\n",
              " 240641848,\n",
              " 241804367,\n",
              " 242970624,\n",
              " 244140625,\n",
              " 245314376,\n",
              " 246491883,\n",
              " 247673152,\n",
              " 248858189,\n",
              " 250047000,\n",
              " 251239591,\n",
              " 252435968,\n",
              " 253636137,\n",
              " 254840104,\n",
              " 256047875,\n",
              " 257259456,\n",
              " 258474853,\n",
              " 259694072,\n",
              " 260917119,\n",
              " 262144000,\n",
              " 263374721,\n",
              " 264609288,\n",
              " 265847707,\n",
              " 267089984,\n",
              " 268336125,\n",
              " 269586136,\n",
              " 270840023,\n",
              " 272097792,\n",
              " 273359449,\n",
              " 274625000,\n",
              " 275894451,\n",
              " 277167808,\n",
              " 278445077,\n",
              " 279726264,\n",
              " 281011375,\n",
              " 282300416,\n",
              " 283593393,\n",
              " 284890312,\n",
              " 286191179,\n",
              " 287496000,\n",
              " 288804781,\n",
              " 290117528,\n",
              " 291434247,\n",
              " 292754944,\n",
              " 294079625,\n",
              " 295408296,\n",
              " 296740963,\n",
              " 298077632,\n",
              " 299418309,\n",
              " 300763000,\n",
              " 302111711,\n",
              " 303464448,\n",
              " 304821217,\n",
              " 306182024,\n",
              " 307546875,\n",
              " 308915776,\n",
              " 310288733,\n",
              " 311665752,\n",
              " 313046839,\n",
              " 314432000,\n",
              " 315821241,\n",
              " 317214568,\n",
              " 318611987,\n",
              " 320013504,\n",
              " 321419125,\n",
              " 322828856,\n",
              " 324242703,\n",
              " 325660672,\n",
              " 327082769,\n",
              " 328509000,\n",
              " 329939371,\n",
              " 331373888,\n",
              " 332812557,\n",
              " 334255384,\n",
              " 335702375,\n",
              " 337153536,\n",
              " 338608873,\n",
              " 340068392,\n",
              " 341532099,\n",
              " 343000000,\n",
              " 344472101,\n",
              " 345948408,\n",
              " 347428927,\n",
              " 348913664,\n",
              " 350402625,\n",
              " 351895816,\n",
              " 353393243,\n",
              " 354894912,\n",
              " 356400829,\n",
              " 357911000,\n",
              " 359425431,\n",
              " 360944128,\n",
              " 362467097,\n",
              " 363994344,\n",
              " 365525875,\n",
              " 367061696,\n",
              " 368601813,\n",
              " 370146232,\n",
              " 371694959,\n",
              " 373248000,\n",
              " 374805361,\n",
              " 376367048,\n",
              " 377933067,\n",
              " 379503424,\n",
              " 381078125,\n",
              " 382657176,\n",
              " 384240583,\n",
              " 385828352,\n",
              " 387420489,\n",
              " 389017000,\n",
              " 390617891,\n",
              " 392223168,\n",
              " 393832837,\n",
              " 395446904,\n",
              " 397065375,\n",
              " 398688256,\n",
              " 400315553,\n",
              " 401947272,\n",
              " 403583419,\n",
              " 405224000,\n",
              " 406869021,\n",
              " 408518488,\n",
              " 410172407,\n",
              " 411830784,\n",
              " 413493625,\n",
              " 415160936,\n",
              " 416832723,\n",
              " 418508992,\n",
              " 420189749,\n",
              " 421875000,\n",
              " 423564751,\n",
              " 425259008,\n",
              " 426957777,\n",
              " 428661064,\n",
              " 430368875,\n",
              " 432081216,\n",
              " 433798093,\n",
              " 435519512,\n",
              " 437245479,\n",
              " 438976000,\n",
              " 440711081,\n",
              " 442450728,\n",
              " 444194947,\n",
              " 445943744,\n",
              " 447697125,\n",
              " 449455096,\n",
              " 451217663,\n",
              " 452984832,\n",
              " 454756609,\n",
              " 456533000,\n",
              " 458314011,\n",
              " 460099648,\n",
              " 461889917,\n",
              " 463684824,\n",
              " 465484375,\n",
              " 467288576,\n",
              " 469097433,\n",
              " 470910952,\n",
              " 472729139,\n",
              " 474552000,\n",
              " 476379541,\n",
              " 478211768,\n",
              " 480048687,\n",
              " 481890304,\n",
              " 483736625,\n",
              " 485587656,\n",
              " 487443403,\n",
              " 489303872,\n",
              " 491169069,\n",
              " 493039000,\n",
              " 494913671,\n",
              " 496793088,\n",
              " 498677257,\n",
              " 500566184,\n",
              " 502459875,\n",
              " 504358336,\n",
              " 506261573,\n",
              " 508169592,\n",
              " 510082399,\n",
              " 512000000,\n",
              " 513922401,\n",
              " 515849608,\n",
              " 517781627,\n",
              " 519718464,\n",
              " 521660125,\n",
              " 523606616,\n",
              " 525557943,\n",
              " 527514112,\n",
              " 529475129,\n",
              " 531441000,\n",
              " 533411731,\n",
              " 535387328,\n",
              " 537367797,\n",
              " 539353144,\n",
              " 541343375,\n",
              " 543338496,\n",
              " 545338513,\n",
              " 547343432,\n",
              " 549353259,\n",
              " 551368000,\n",
              " 553387661,\n",
              " 555412248,\n",
              " 557441767,\n",
              " 559476224,\n",
              " 561515625,\n",
              " 563559976,\n",
              " 565609283,\n",
              " 567663552,\n",
              " 569722789,\n",
              " 571787000,\n",
              " 573856191,\n",
              " 575930368,\n",
              " 578009537,\n",
              " 580093704,\n",
              " 582182875,\n",
              " 584277056,\n",
              " 586376253,\n",
              " 588480472,\n",
              " 590589719,\n",
              " 592704000,\n",
              " 594823321,\n",
              " 596947688,\n",
              " 599077107,\n",
              " 601211584,\n",
              " 603351125,\n",
              " 605495736,\n",
              " 607645423,\n",
              " 609800192,\n",
              " 611960049,\n",
              " 614125000,\n",
              " 616295051,\n",
              " 618470208,\n",
              " 620650477,\n",
              " 622835864,\n",
              " 625026375,\n",
              " 627222016,\n",
              " 629422793,\n",
              " 631628712,\n",
              " 633839779,\n",
              " 636056000,\n",
              " 638277381,\n",
              " 640503928,\n",
              " 642735647,\n",
              " 644972544,\n",
              " 647214625,\n",
              " 649461896,\n",
              " 651714363,\n",
              " 653972032,\n",
              " 656234909,\n",
              " 658503000,\n",
              " 660776311,\n",
              " 663054848,\n",
              " 665338617,\n",
              " 667627624,\n",
              " 669921875,\n",
              " 672221376,\n",
              " 674526133,\n",
              " 676836152,\n",
              " 679151439,\n",
              " 681472000,\n",
              " 683797841,\n",
              " 686128968,\n",
              " 688465387,\n",
              " 690807104,\n",
              " 693154125,\n",
              " 695506456,\n",
              " 697864103,\n",
              " 700227072,\n",
              " 702595369,\n",
              " 704969000,\n",
              " 707347971,\n",
              " 709732288,\n",
              " 712121957,\n",
              " 714516984,\n",
              " 716917375,\n",
              " 719323136,\n",
              " 721734273,\n",
              " 724150792,\n",
              " 726572699,\n",
              " 729000000,\n",
              " 731432701,\n",
              " 733870808,\n",
              " 736314327,\n",
              " 738763264,\n",
              " 741217625,\n",
              " 743677416,\n",
              " 746142643,\n",
              " 748613312,\n",
              " 751089429,\n",
              " 753571000,\n",
              " 756058031,\n",
              " 758550528,\n",
              " 761048497,\n",
              " 763551944,\n",
              " 766060875,\n",
              " 768575296,\n",
              " 771095213,\n",
              " 773620632,\n",
              " 776151559,\n",
              " 778688000,\n",
              " 781229961,\n",
              " 783777448,\n",
              " 786330467,\n",
              " 788889024,\n",
              " 791453125,\n",
              " 794022776,\n",
              " 796597983,\n",
              " 799178752,\n",
              " 801765089,\n",
              " 804357000,\n",
              " 806954491,\n",
              " 809557568,\n",
              " 812166237,\n",
              " 814780504,\n",
              " 817400375,\n",
              " 820025856,\n",
              " 822656953,\n",
              " 825293672,\n",
              " 827936019,\n",
              " 830584000,\n",
              " 833237621,\n",
              " 835896888,\n",
              " 838561807,\n",
              " 841232384,\n",
              " 843908625,\n",
              " 846590536,\n",
              " 849278123,\n",
              " 851971392,\n",
              " 854670349,\n",
              " 857375000,\n",
              " 860085351,\n",
              " 862801408,\n",
              " 865523177,\n",
              " 868250664,\n",
              " 870983875,\n",
              " 873722816,\n",
              " 876467493,\n",
              " 879217912,\n",
              " 881974079,\n",
              " 884736000,\n",
              " 887503681,\n",
              " 890277128,\n",
              " 893056347,\n",
              " 895841344,\n",
              " 898632125,\n",
              " 901428696,\n",
              " 904231063,\n",
              " 907039232,\n",
              " 909853209,\n",
              " 912673000,\n",
              " 915498611,\n",
              " 918330048,\n",
              " 921167317,\n",
              " 924010424,\n",
              " 926859375,\n",
              " 929714176,\n",
              " 932574833,\n",
              " 935441352,\n",
              " 938313739,\n",
              " 941192000,\n",
              " 944076141,\n",
              " 946966168,\n",
              " 949862087,\n",
              " 952763904,\n",
              " 955671625,\n",
              " 958585256,\n",
              " 961504803,\n",
              " 964430272,\n",
              " 967361669,\n",
              " 970299000,\n",
              " 973242271,\n",
              " 976191488,\n",
              " 979146657,\n",
              " 982107784,\n",
              " 985074875,\n",
              " 988047936,\n",
              " 991026973,\n",
              " 994011992,\n",
              " 997002999,\n",
              " ...]"
            ]
          },
          "execution_count": 16,
          "metadata": {},
          "output_type": "execute_result"
        }
      ],
      "source": [
        "import time\n",
        "\n",
        "def cal_time(func):\n",
        "    def wrapper(numbers):\n",
        "        start = time.time()\n",
        "        res = func(numbers)\n",
        "        finish = time.time()\n",
        "        print(func.__name__ + \" worked in \" + str(finish-start) + \" sec.\")\n",
        "        return res\n",
        "    return wrapper\n",
        "@cal_time\n",
        "def pow2(numbers):\n",
        "    res = list()\n",
        "    for i in numbers:\n",
        "        res.append(i**2)\n",
        "    return res\n",
        "@cal_time\n",
        "def pow3(numbers):\n",
        "    res = list()\n",
        "    for i in numbers:\n",
        "        res.append(i**3)\n",
        "    return res\n",
        "pow2(range(100000))\n",
        "pow3(range(100000))"
      ]
    },
    {
      "cell_type": "markdown",
      "metadata": {
        "id": "pKJg1iNlzctw"
      },
      "source": [
        "## Datetime"
      ]
    },
    {
      "cell_type": "code",
      "execution_count": null,
      "metadata": {
        "id": "Xc2kW-xrzctw"
      },
      "outputs": [],
      "source": [
        "from datetime import datetime"
      ]
    },
    {
      "cell_type": "code",
      "execution_count": null,
      "metadata": {
        "id": "nk0fE2Eezctw",
        "outputId": "26110f08-f022-4f41-aff3-3729caa2ee4b"
      },
      "outputs": [
        {
          "name": "stdout",
          "output_type": "stream",
          "text": [
            "2021-11-09 17:12:32.813758\n"
          ]
        }
      ],
      "source": [
        "print(datetime.now())"
      ]
    },
    {
      "cell_type": "code",
      "execution_count": null,
      "metadata": {
        "id": "TMyj13j8zctw",
        "outputId": "a503bb70-cb5a-44bc-a811-8e3fd3bbc706"
      },
      "outputs": [
        {
          "name": "stdout",
          "output_type": "stream",
          "text": [
            "11 2021\n"
          ]
        }
      ],
      "source": [
        "print(datetime.now().month, datetime.now().year)"
      ]
    },
    {
      "cell_type": "code",
      "execution_count": null,
      "metadata": {
        "id": "acanxoyAzctw",
        "outputId": "702fb402-9a79-4ba9-8891-9d31bd955d57"
      },
      "outputs": [
        {
          "name": "stdout",
          "output_type": "stream",
          "text": [
            "Tue Nov  9 17:14:28 2021\n"
          ]
        }
      ],
      "source": [
        "print(datetime.ctime(datetime.now()))"
      ]
    },
    {
      "cell_type": "markdown",
      "metadata": {
        "id": "-LTT90TKzctw"
      },
      "source": [
        "**strftime() fonction**\n",
        "    \n",
        "    For year : %Y\n",
        "\n",
        "    For month : %B\n",
        "\n",
        "    Day name: %A\n",
        "\n",
        "    Hour : %X\n",
        "\n",
        "    Exact day : %D"
      ]
    },
    {
      "cell_type": "code",
      "execution_count": null,
      "metadata": {
        "id": "pIJXdNyRzctw",
        "outputId": "022f579d-8ae6-465b-d25c-1eeb0b6b5ccf"
      },
      "outputs": [
        {
          "name": "stdout",
          "output_type": "stream",
          "text": [
            "2021\n"
          ]
        }
      ],
      "source": [
        "print(datetime.strftime(datetime.now(), \"%Y\"))"
      ]
    },
    {
      "cell_type": "code",
      "execution_count": null,
      "metadata": {
        "id": "OalhZrB2zctw",
        "outputId": "48b1a663-f849-49ee-ed14-85211ba3fa0a"
      },
      "outputs": [
        {
          "name": "stdout",
          "output_type": "stream",
          "text": [
            "November\n"
          ]
        }
      ],
      "source": [
        "print(datetime.strftime(datetime.now(), \"%B\"))"
      ]
    },
    {
      "cell_type": "code",
      "execution_count": null,
      "metadata": {
        "id": "ttYzbnCtzctx",
        "outputId": "3404ed26-ae0b-47e0-eebf-250f7287f3bd"
      },
      "outputs": [
        {
          "name": "stdout",
          "output_type": "stream",
          "text": [
            "Tuesday\n"
          ]
        }
      ],
      "source": [
        "print(datetime.strftime(datetime.now(), \"%A\"))"
      ]
    },
    {
      "cell_type": "code",
      "execution_count": null,
      "metadata": {
        "id": "JcyIelxWzctx",
        "outputId": "3fa38e28-8f32-444b-b9b0-483ac906c850"
      },
      "outputs": [
        {
          "name": "stdout",
          "output_type": "stream",
          "text": [
            "17:18:08\n"
          ]
        }
      ],
      "source": [
        "print(datetime.strftime(datetime.now(), \"%X\"))"
      ]
    },
    {
      "cell_type": "code",
      "execution_count": null,
      "metadata": {
        "id": "7FsEO7etzctx",
        "outputId": "92a13f08-c15b-48fc-ae90-19bdd6ca4514"
      },
      "outputs": [
        {
          "name": "stdout",
          "output_type": "stream",
          "text": [
            "11/09/21\n"
          ]
        }
      ],
      "source": [
        "print(datetime.strftime(datetime.now(), \"%D\"))"
      ]
    },
    {
      "cell_type": "code",
      "execution_count": null,
      "metadata": {
        "id": "y1Ymlm4tzctx",
        "outputId": "e7c54276-3d2d-46ba-b350-c73890bd76e5"
      },
      "outputs": [
        {
          "name": "stdout",
          "output_type": "stream",
          "text": [
            "Salı\n"
          ]
        }
      ],
      "source": [
        "import locale\n",
        "locale.setlocale(locale.LC_ALL,\"\")\n",
        "print(datetime.strftime(datetime.now(),\"%A\"))"
      ]
    },
    {
      "cell_type": "markdown",
      "metadata": {
        "id": "eV-IXdhVzctx"
      },
      "source": [
        "* Changing language of the time"
      ]
    },
    {
      "cell_type": "markdown",
      "metadata": {
        "id": "YfqVyfKBzctx"
      },
      "source": [
        "**timestamp():** It changes the time to seconds"
      ]
    },
    {
      "cell_type": "markdown",
      "metadata": {
        "id": "XzusF6aKzctx"
      },
      "source": [
        "**fromtimestamp():** Reverse of timestamp"
      ]
    },
    {
      "cell_type": "code",
      "execution_count": null,
      "metadata": {
        "id": "KCO9Kvoxzctx"
      },
      "outputs": [],
      "source": [
        "now = datetime.now()\n",
        "sec = datetime.timestamp(now)"
      ]
    },
    {
      "cell_type": "code",
      "execution_count": null,
      "metadata": {
        "id": "PwaTiVUWzctx",
        "outputId": "3df7609c-1f0a-4e34-ef41-63a26d020409"
      },
      "outputs": [
        {
          "name": "stdout",
          "output_type": "stream",
          "text": [
            "1636468321.427842\n",
            "2021-11-09 17:32:01.427842\n"
          ]
        }
      ],
      "source": [
        "date = datetime.fromtimestamp(sec)\n",
        "print(sec)\n",
        "print(date)"
      ]
    },
    {
      "cell_type": "code",
      "execution_count": null,
      "metadata": {
        "id": "4fSDQPg8zctx"
      },
      "outputs": [],
      "source": [
        "date = datetime.fromtimestamp(0)"
      ]
    },
    {
      "cell_type": "code",
      "execution_count": null,
      "metadata": {
        "id": "AretHYKKzctx",
        "outputId": "1fe88f2a-0190-4988-de88-748942e957ce"
      },
      "outputs": [
        {
          "name": "stdout",
          "output_type": "stream",
          "text": [
            "1970-01-01 03:00:00\n"
          ]
        }
      ],
      "source": [
        "print(date)"
      ]
    },
    {
      "cell_type": "code",
      "execution_count": null,
      "metadata": {
        "id": "kgozf2irzctx",
        "outputId": "646a0ae6-0555-4e75-be71-c50de31f89cb"
      },
      "outputs": [
        {
          "name": "stdout",
          "output_type": "stream",
          "text": [
            "18940 days, 14:32:01.427842\n"
          ]
        }
      ],
      "source": [
        "print(now-date)"
      ]
    },
    {
      "cell_type": "markdown",
      "metadata": {
        "id": "mScCn-qlzctx"
      },
      "source": [
        "# Os Module"
      ]
    },
    {
      "cell_type": "code",
      "execution_count": null,
      "metadata": {
        "id": "NLKQiWxlzctx"
      },
      "outputs": [],
      "source": [
        "import os"
      ]
    },
    {
      "cell_type": "code",
      "execution_count": null,
      "metadata": {
        "id": "4xqBHTXWzctx",
        "outputId": "ed587312-650f-4b3f-e002-3a9d95140089"
      },
      "outputs": [
        {
          "name": "stdout",
          "output_type": "stream",
          "text": [
            "C:\\Users\\M.alı\n"
          ]
        }
      ],
      "source": [
        "print(os.getcwd())"
      ]
    },
    {
      "cell_type": "code",
      "execution_count": null,
      "metadata": {
        "id": "esZwg6Y2zctx"
      },
      "outputs": [],
      "source": [
        "os.chdir(\"C:/Users/M.alı/Desktop\")"
      ]
    },
    {
      "cell_type": "code",
      "execution_count": null,
      "metadata": {
        "id": "hqaxYXkCzctx",
        "outputId": "9212e8a3-1b69-4be6-cbad-c7c1b30109d5"
      },
      "outputs": [
        {
          "name": "stdout",
          "output_type": "stream",
          "text": [
            "C:\\Users\\M.alı\\Desktop\n"
          ]
        }
      ],
      "source": [
        "print(os.getcwd())"
      ]
    },
    {
      "cell_type": "code",
      "execution_count": null,
      "metadata": {
        "id": "dBLdIyVbzctx",
        "outputId": "a49aef08-3094-4dff-83f3-7b310cb94a04"
      },
      "outputs": [
        {
          "name": "stdout",
          "output_type": "stream",
          "text": [
            "[',', 'desktop.ini']\n"
          ]
        }
      ],
      "source": [
        "print(os.listdir())"
      ]
    },
    {
      "cell_type": "code",
      "execution_count": null,
      "metadata": {
        "id": "EpPuI6sSzctx",
        "outputId": "56fa9b5c-88e8-48d2-8a89-ae978138b7db"
      },
      "outputs": [
        {
          "name": "stdout",
          "output_type": "stream",
          "text": [
            "C:\\Users\\M.alı\\Desktop\n"
          ]
        }
      ],
      "source": [
        "print(os.getcwd())"
      ]
    },
    {
      "cell_type": "code",
      "execution_count": null,
      "metadata": {
        "id": "uE7dnj-Szctx"
      },
      "outputs": [],
      "source": [
        "os.mkdir(\"Hi\")"
      ]
    },
    {
      "cell_type": "markdown",
      "metadata": {
        "id": "YVWKEAjqzctx"
      },
      "source": [
        "* It creates a folder in your place"
      ]
    },
    {
      "cell_type": "code",
      "execution_count": null,
      "metadata": {
        "id": "TmnjgCarzctx"
      },
      "outputs": [],
      "source": [
        "os.makedirs(\"Hi1/Hi2\") # it creates two folders and hi2 is in hi1"
      ]
    },
    {
      "cell_type": "code",
      "execution_count": null,
      "metadata": {
        "id": "mXaca6xozctx"
      },
      "outputs": [],
      "source": [
        "os.rmdir(\"Hi1/Hi2\") # it deletes folder"
      ]
    },
    {
      "cell_type": "markdown",
      "metadata": {
        "id": "6cbHLwxuzcty"
      },
      "source": [
        "**os.removedirs():**It deletes all folder"
      ]
    },
    {
      "cell_type": "markdown",
      "metadata": {
        "id": "Kc2zqflqzcty"
      },
      "source": [
        "**os.rename()**"
      ]
    },
    {
      "cell_type": "markdown",
      "metadata": {
        "id": "WKF77lGYzcty"
      },
      "source": [
        "**os.stat(\"xxxx.txt\".st_mtime):**It gives the time that last time we changed the file in seconds"
      ]
    },
    {
      "cell_type": "markdown",
      "metadata": {
        "id": "6S19-hGXzcty"
      },
      "source": [
        "**os.walk():** (file_address,file_name,document_names)"
      ]
    },
    {
      "cell_type": "markdown",
      "metadata": {
        "id": "W38dZg_kzcty"
      },
      "source": [
        "## Sys module"
      ]
    },
    {
      "cell_type": "markdown",
      "metadata": {
        "id": "DTCfGycezcty"
      },
      "source": [
        "**sys.exit():**Ends program"
      ]
    },
    {
      "cell_type": "markdown",
      "metadata": {
        "id": "gEoWukZTzcty"
      },
      "source": [
        "## stderr ve stdout\n",
        "Bilgisayarlar uygulamalarımız ve işlemlerimiz çalıştığı zaman çıktı vermek ve girdi almak için şu dosyaları kullanır.\n",
        "\n",
        "**stdin :** Bu standard dosya, işlemimizin (process ) kullanıcıdan input almasını sağlar.\n",
        "\n",
        "**stdout :** Bu standard dosya, işlemimizin (process ) çıktı vermesini sağlar.\n",
        "\n",
        "**stderr :** Bu standard dosya, işlemimizin hata mesajlarını çıktı olarak vermek için kullanılır.\n",
        "\n",
        "Biz print() fonksiyonumuzu kullandığımızda aslında standard olarak stdout kullanılmaktadır. Ancak biz istersek *stderr'e de bir şeyler yazabiliriz."
      ]
    },
    {
      "cell_type": "code",
      "execution_count": null,
      "metadata": {
        "id": "mxeGFDUdzcty"
      },
      "outputs": [],
      "source": []
    }
  ],
  "metadata": {
    "kernelspec": {
      "display_name": "Python 3",
      "language": "python",
      "name": "python3"
    },
    "language_info": {
      "codemirror_mode": {
        "name": "ipython",
        "version": 3
      },
      "file_extension": ".py",
      "mimetype": "text/x-python",
      "name": "python",
      "nbconvert_exporter": "python",
      "pygments_lexer": "ipython3",
      "version": "3.7.4"
    },
    "colab": {
      "provenance": [],
      "include_colab_link": true
    }
  },
  "nbformat": 4,
  "nbformat_minor": 0
}